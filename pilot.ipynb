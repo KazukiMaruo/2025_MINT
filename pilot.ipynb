{
 "cells": [
  {
   "cell_type": "markdown",
   "metadata": {},
   "source": [
    "### Radius computation"
   ]
  },
  {
   "cell_type": "code",
   "execution_count": 1,
   "metadata": {},
   "outputs": [
    {
     "name": "stdout",
     "output_type": "stream",
     "text": [
      "The radius of the circle is approximately 1.7841 cm\n"
     ]
    }
   ],
   "source": [
    "import math\n",
    "\n",
    "# Given area\n",
    "area = 10  # cm²\n",
    "\n",
    "# Calculate the radius\n",
    "radius = math.sqrt(area / math.pi)\n",
    "\n",
    "# Print the result\n",
    "print(f\"The radius of the circle is approximately {radius:.4f} cm\")\n"
   ]
  },
  {
   "cell_type": "markdown",
   "metadata": {},
   "source": [
    "### Circumference computation"
   ]
  },
  {
   "cell_type": "code",
   "execution_count": 2,
   "metadata": {},
   "outputs": [
    {
     "name": "stdout",
     "output_type": "stream",
     "text": [
      "The circumference of the circle is approximately 11.2098 cm\n",
      "The total circumference of the circle is approximately 67.2590 cm\n"
     ]
    }
   ],
   "source": [
    "# Given radius\n",
    "radius = 1.7841  # cm\n",
    "numerosity = 6\n",
    "# Calculate the circumference\n",
    "circumference = 2 * math.pi * radius\n",
    "Total_circumference = circumference * numerosity\n",
    "# Print the result\n",
    "print(f\"The circumference of the circle is approximately {circumference:.4f} cm\")\n",
    "print(f\"The total circumference of the circle is approximately {Total_circumference:.4f} cm\")\n"
   ]
  },
  {
   "cell_type": "markdown",
   "metadata": {},
   "source": [
    "### Auditory experiment 1\n",
    "Using Wav.files.\n",
    "Total duration is controlled (620 ms)"
   ]
  },
  {
   "cell_type": "code",
   "execution_count": 2,
   "metadata": {},
   "outputs": [],
   "source": [
    "\n",
    "### ~~~~~~~~~~~~ import tools \n",
    "import pygame\n",
    "import numpy as np\n",
    "import random\n",
    "\n",
    "### ~~~~~~~~~~~~ Initialize pygame mixer\n",
    "pygame.mixer.init()\n",
    "\n",
    "\n",
    "### ~~~~~~~~~~~~ Parameter Settings\n",
    "I_sequence_I = 0.8\n",
    "I_stimuli_I = 0.1\n",
    "parameters = {\n",
    "    1: {\"duration\": 0.62, \"isi\": 0},  # 1 beeps with 560ms duration and 0ms ISI\n",
    "    2: {\"duration\": 0.26, \"isi\": I_stimuli_I},  # 2 beeps with 230ms duration and 100ms ISI\n",
    "    3: {\"duration\": 0.14, \"isi\": I_stimuli_I}, # 3 beeps with 120ms duration and 100ms ISI\n",
    "    4: {\"duration\": 0.085, \"isi\": I_stimuli_I},  # 4 beeps with 65ms duration and 100ms ISI\n",
    "    5: {\"duration\": 0.044, \"isi\": I_stimuli_I},  # 5 beeps with 32ms duration and 100ms ISI\n",
    "    6: {\"duration\": 0.02, \"isi\": I_stimuli_I} # 6 beeps with 10ms duration and 100ms ISI\n",
    "}\n",
    "\n",
    "\n",
    "\n",
    "\n",
    "### ~~~~~~~~~~~~ Randomize the order\n",
    "# Convert dictionary items to a list and shuffle it\n",
    "items = list(parameters.items())\n",
    "random.shuffle(items)\n",
    "# Create a new dictionary from the shuffled list of items\n",
    "shuffled_parameters = dict(items)\n",
    "\n",
    "\n",
    "### ~~~~~~~~~~~~ Import audio.wav file\n",
    "plays=pygame.mixer.Sound(\"/Users/muku/Desktop/Ph.D_MaxPlanck/Research/MINT/experiment/stimuli/audio/beep-01a.wav\")\n",
    "\n",
    "\n",
    "### ~~~~~~~~~~~~ start numerosity loop\n",
    "for numerosity, params in shuffled_parameters.items():\n",
    "    num_beeps = numerosity\n",
    "    duration = int(params[\"duration\"]*1000)\n",
    "    isi = params[\"isi\"]\n",
    "\n",
    "\n",
    "    for _ in range(num_beeps):\n",
    "        # Play the sound\n",
    "        plays.play()\n",
    "        # Wait for the desired duration (e.g., 2 seconds)\n",
    "        pygame.time.wait(duration)  # Duration in milliseconds\n",
    "        # Stop the sound after the specified duration\n",
    "        plays.stop()\n",
    "        if _ < num_beeps - 1:\n",
    "            pygame.time.wait(int(isi * 1000))\n",
    "\n",
    "    \n",
    "    pygame.time.wait(int(I_sequence_I * 1000)) # inter-sequence interval\n",
    "\n",
    "### ~~~~~~~~~~~~ end numerosity loop\n",
    "\n",
    "\n",
    "### ~~~~~~~~~~~~ Close pygame mixer\n",
    "pygame.mixer.quit()\n"
   ]
  },
  {
   "cell_type": "markdown",
   "metadata": {},
   "source": [
    "### Auditory Experiment 2\n",
    "Using wav.files. \n",
    "Single item duration and rate is controlled (20ms)"
   ]
  },
  {
   "cell_type": "code",
   "execution_count": 131,
   "metadata": {},
   "outputs": [],
   "source": [
    "\n",
    "### ~~~~~~~~~~~~ import tools \n",
    "import pygame\n",
    "import numpy as np\n",
    "import random\n",
    "\n",
    "### ~~~~~~~~~~~~ Initialize pygame mixer\n",
    "pygame.mixer.init()\n",
    "\n",
    "\n",
    "### ~~~~~~~~~~~~ Parameter Settings\n",
    "I_sequence_I = 0.8\n",
    "I_stimuli_I = 0.1\n",
    "singleItemduration = 0.02\n",
    "parameters = {\n",
    "    1: {\"duration\": singleItemduration, \"isi\": 0},  # 1 beeps with 10ms duration and 0ms ISI\n",
    "    2: {\"duration\": singleItemduration, \"isi\": I_stimuli_I},  # 2 beeps with 10ms duration and 10ms ISI\n",
    "    3: {\"duration\": singleItemduration, \"isi\": I_stimuli_I}, # 3 beeps with 10ms duration and 100ms ISI\n",
    "    4: {\"duration\": singleItemduration, \"isi\": I_stimuli_I},  # 4 beeps with 10ms duration and 100ms ISI\n",
    "    5: {\"duration\": singleItemduration, \"isi\": I_stimuli_I},  # 5 beeps with 10ms duration and 100ms ISI\n",
    "    6: {\"duration\": singleItemduration, \"isi\": I_stimuli_I} # 6 beeps with 10ms duration and 100ms ISI\n",
    "}\n",
    "\n",
    "\n",
    "\n",
    "### ~~~~~~~~~~~~ Randomize the order\n",
    "# Convert dictionary items to a list and shuffle it\n",
    "items = list(parameters.items())\n",
    "random.shuffle(items)\n",
    "# Create a new dictionary from the shuffled list of items\n",
    "shuffled_parameters = dict(items)\n",
    "\n",
    "\n",
    "### ~~~~~~~~~~~~ Import audio.wav file\n",
    "plays=pygame.mixer.Sound(\"/Users/muku/Desktop/Ph.D_MaxPlanck/Research/MINT/experiment/stimuli/audio/beep-01a.wav\")\n",
    "\n",
    "\n",
    "### ~~~~~~~~~~~~ start numerosity loop\n",
    "for numerosity, params in shuffled_parameters.items():\n",
    "    num_beeps = numerosity\n",
    "    duration = int(params[\"duration\"]*1000)\n",
    "    isi = params[\"isi\"]\n",
    "\n",
    "\n",
    "    for _ in range(num_beeps):\n",
    "        # Play the sound\n",
    "        plays.play()\n",
    "        # Wait for the desired duration (e.g., 2 seconds)\n",
    "        pygame.time.wait(duration)  # Duration in milliseconds\n",
    "        # Stop the sound after the specified duration\n",
    "        plays.stop()\n",
    "        if _ < num_beeps - 1:\n",
    "            pygame.time.wait(int(isi * 1000))\n",
    "\n",
    "    \n",
    "    pygame.time.wait(int(I_sequence_I * 1000)) # inter-sequence interval\n",
    "\n",
    "### ~~~~~~~~~~~~ end numerosity loop\n",
    "\n",
    "\n",
    "### ~~~~~~~~~~~~ Close pygame mixer\n",
    "pygame.mixer.quit()\n"
   ]
  },
  {
   "cell_type": "markdown",
   "metadata": {},
   "source": [
    "### Figures for presentation\n",
    "Example of EEG data for each numerosity"
   ]
  },
  {
   "cell_type": "code",
   "execution_count": null,
   "metadata": {},
   "outputs": [],
   "source": [
    "import numpy as np\n",
    "import matplotlib.pyplot as plt\n",
    "\n",
    "# Parameters\n",
    "sampling_rate = 1000  # Hz (samples per second)\n",
    "duration = 1  # seconds\n",
    "time = np.linspace(0, duration, duration * sampling_rate) *1000\n",
    "\n",
    "base_wave = np.zeros(sampling_rate)+1\n",
    "\n",
    "# Increase amplitude between 400 ms and 800 ms\n",
    "start_time = 0.2  # 400 ms\n",
    "end_time = 0.8    # 800 ms\n",
    "midpoint = 300\n",
    "\n",
    "amplitude_factors = [1.1, 2, 2.5, 2.7, 2.9, 3]\n",
    "Numerosities = [1, 2, 3, 4, 5, 6]    \n",
    "\n",
    "plt.figure(figsize=(12, 6))\n",
    "\n",
    "for index, amplitude in enumerate(amplitude_factors):\n",
    "    \n",
    "    # Create a linearly increasing part\n",
    "    increasing_part = np.exp(np.linspace(0, amplitude, midpoint))\n",
    "    # Create a linearly decreasing part\n",
    "    decreasing_part = np.exp(np.linspace(amplitude, 0, midpoint))\n",
    "    # Combine them to form the final vector\n",
    "    vector = np.concatenate([increasing_part, decreasing_part])\n",
    "\n",
    "    # Find indices corresponding to 400 ms and 800 ms\n",
    "    start_index = int(start_time * sampling_rate)\n",
    "    end_index = int(end_time * sampling_rate)\n",
    "\n",
    "    noise = 0.03 * np.random.randn(len(time))\n",
    "    # Increase amplitude in the specified range\n",
    "    wave = base_wave.copy() + noise\n",
    "    wave[start_index:end_index] *= vector \n",
    "\n",
    "    plt.plot(time, wave, label=f'Numeorosity = {Numerosities[index]}')\n",
    "\n",
    "\n",
    "# Adding some random noise to simulate real EEG data\n",
    "# noise = 10 * np.random.randn(len(time))\n",
    "# eeg_signal_1 += noise\n",
    "\n",
    "plt.title('Simulated EEG Time-Series Data', size=20)\n",
    "plt.xlabel('Time (ms)',size=20)\n",
    "plt.ylabel('Amplitude (µV)',size=20)\n",
    "plt.tick_params(axis='both', which='major', labelsize=20)\n",
    "plt.yticks([]) \n",
    "# Add grid for better readability\n",
    "plt.grid(False)\n",
    "# Remove the box line (spines)\n",
    "ax = plt.gca()  # Get current axis\n",
    "for spine in ax.spines.values():\n",
    "    spine.set_visible(False)\n",
    "# Draw lines at the 0-axis\n",
    "plt.axhline(0, color='black', linestyle='-', linewidth=2)  # Horizontal line at y=0\n",
    "plt.axvline(0, color='black', linestyle='-', linewidth=2)  # Vertical line at x=0\n",
    "plt.legend(fontsize=20, loc='best')\n",
    "# Fill area between x=495 ms and x=505 ms\n",
    "x_fill_start = 480\n",
    "x_fill_end = 520\n",
    "plt.fill_between([x_fill_start,x_fill_end], 22, color='lightgray', alpha=0.5, label='Highlighted Area')\n",
    "\n",
    "# Save the plot to a file\n",
    "plt.savefig('/Users/muku/Desktop/figure.png', format='png', dpi=300, bbox_inches='tight')\n",
    "\n",
    "\n",
    "plt.show()\n",
    "\n"
   ]
  },
  {
   "cell_type": "markdown",
   "metadata": {},
   "source": [
    "Examples of time-resolved average accuracy "
   ]
  },
  {
   "cell_type": "code",
   "execution_count": null,
   "metadata": {},
   "outputs": [],
   "source": [
    "import numpy as np\n",
    "import matplotlib.pyplot as plt\n",
    "\n",
    "# Parameters\n",
    "sampling_rate = 100  # Hz (samples per second)\n",
    "duration = 1  # seconds\n",
    "time = np.linspace(0, duration, duration * sampling_rate) *1000\n",
    "\n",
    "base_wave = np.zeros(sampling_rate)+40\n",
    "\n",
    "# Increase amplitude between 400 ms and 800 ms\n",
    "start_time = 0.2  # 400 ms\n",
    "end_time = 0.8    # 800 ms\n",
    "midpoint = 30\n",
    "\n",
    "amplitude_factors = 0.6  \n",
    "\n",
    "plt.figure(figsize=(12, 6))\n",
    "\n",
    "    \n",
    "# Create a linearly increasing part\n",
    "increasing_part = np.exp(np.linspace(0, amplitude_factors, midpoint))\n",
    "# Create a linearly decreasing part\n",
    "decreasing_part = np.exp(np.linspace(amplitude_factors, 0, midpoint))\n",
    "# Combine them to form the final vector\n",
    "vector = np.concatenate([increasing_part, decreasing_part])\n",
    "\n",
    "# Find indices corresponding to 400 ms and 800 ms\n",
    "start_index = int(start_time * sampling_rate)\n",
    "end_index = int(end_time * sampling_rate)\n",
    "\n",
    "noise = 1.1 * np.random.randn(len(time))\n",
    "# Increase amplitude in the specified range\n",
    "wave = base_wave.copy() + noise\n",
    "wave[start_index:end_index] *= vector \n",
    "\n",
    "# Simulate standard deviation (just for demonstration)\n",
    "std_dev = 3 \n",
    "\n",
    "# Plot the standard deviation shading\n",
    "plt.fill_between(time, wave - std_dev, wave + std_dev, color='m', alpha=0.1)\n",
    "\n",
    "\n",
    "plt.plot(time, wave, label=f'average accuracy (%)', color='m')\n",
    "\n",
    "\n",
    "plt.xlabel('Time (ms)',size=20)\n",
    "plt.ylabel('Average accuracy (%)',size=20)\n",
    "plt.tick_params(axis='both', which='major', labelsize=20)\n",
    "plt.yticks([30, 50,70]) \n",
    "plt.ylim(20,80)\n",
    "# Add grid for better readability\n",
    "plt.grid(True)\n",
    "# Remove the box line (spines)\n",
    "ax = plt.gca()  # Get current axis\n",
    "for spine in ax.spines.values():\n",
    "    spine.set_visible(False)\n",
    "# Draw lines at the 0-axis\n",
    "plt.axhline(20, color='black', linestyle='-', linewidth=2)  # Horizontal line at y=0\n",
    "plt.axhline(50, color='black', linestyle='--', linewidth=2)\n",
    "plt.axvline(0, color='black', linestyle='-', linewidth=2)  # Vertical line at x=0\n",
    "plt.legend(fontsize=20, loc='best')\n",
    "\n",
    "x_fill_start = 495\n",
    "x_fill_end = 505\n",
    "plt.fill_between([x_fill_start,x_fill_end], 80, color='lightgray', alpha=1, label='Highlighted Area')\n",
    "\n",
    "\n",
    "# Save the plot to a file\n",
    "plt.savefig('/Users/muku/Desktop/figure2.png', format='png', dpi=300, bbox_inches='tight')\n",
    "\n",
    "\n",
    "plt.show()\n",
    "\n"
   ]
  },
  {
   "cell_type": "markdown",
   "metadata": {},
   "source": [
    "Example visual stimulus with dot and red diagonal lines"
   ]
  },
  {
   "cell_type": "code",
   "execution_count": null,
   "metadata": {},
   "outputs": [],
   "source": [
    "import numpy as np\n",
    "import matplotlib.pyplot as plt\n",
    "\n",
    "# Set the range for x and y axes\n",
    "x_range = (1.5, 2.5)\n",
    "y_range = (1.5, 2.5)\n",
    "\n",
    "# Create a figure\n",
    "plt.figure(figsize=(8, 8))\n",
    "\n",
    "# Generate random dot positions with increasing number of dots from 1 to 6\n",
    "for i in range(1, 7):\n",
    "    # Generate random x and y positions\n",
    "    x_positions = np.random.uniform(x_range[0], x_range[1], i)\n",
    "    y_positions = np.random.uniform(y_range[0], y_range[1], i)\n",
    "    \n",
    "    # Plot the dots\n",
    "    plt.scatter(x_positions, y_positions, label=f'{i} dots')\n",
    "\n",
    "# Set the axis limits to make sure all dots are visible\n",
    "plt.xlim(x_range)\n",
    "plt.ylim(y_range)\n",
    "\n",
    "# Add a legend and title\n",
    "plt.legend()\n",
    "plt.title('Random Dot Positions with Increasing Number of Dots')\n",
    "plt.xlabel('X Position')\n",
    "plt.ylabel('Y Position')\n",
    "\n",
    "# Display the plot\n",
    "plt.grid(True)\n",
    "plt.show()\n"
   ]
  },
  {
   "cell_type": "code",
   "execution_count": 119,
   "metadata": {},
   "outputs": [
    {
     "data": {
      "text/plain": [
       "2.19247211937002"
      ]
     },
     "execution_count": 119,
     "metadata": {},
     "output_type": "execute_result"
    }
   ],
   "source": [
    "pos[0]"
   ]
  },
  {
   "cell_type": "code",
   "execution_count": 15,
   "metadata": {},
   "outputs": [
    {
     "data": {
      "image/png": "[encoded data removed]",
      "text/plain": [
       "<Figure size 800x600 with 1 Axes>"
      ]
     },
     "metadata": {},
     "output_type": "display_data"
    }
   ],
   "source": [
    "import matplotlib.pyplot as plt\n",
    "\n",
    "# Create a figure and axis with a specific size (width, height in inches)\n",
    "fig, ax = plt.subplots(figsize=[8,6])  # Square figure for better symmetry\n",
    "\n",
    "# Change the background color to brown\n",
    "ax.set_facecolor('gray')\n",
    "\n",
    "# Coordinates for three black dots\n",
    "# Set the range for x and y axes\n",
    "Numerosity = 6\n",
    "down_range = 1.5\n",
    "up_range = 2.5\n",
    "dot_positions = []\n",
    "\n",
    "# Use numpy to generate all positions at once\n",
    "dot_positions = np.random.uniform(down_range, up_range, (Numerosity, 2))\n",
    "\n",
    "\n",
    "ax.plot([0, 4], [0, 4], 'r-', linewidth=0.5)  # Red line\n",
    "ax.plot([0, 4], [4, 0], 'r-', linewidth=0.5)  # Red line\n",
    "# Plot the three black dots\n",
    "for pos in dot_positions:\n",
    "    ax.plot(pos[0], pos[1], 'ko', markersize=2)  # 'ko' specifies black color ('k') and circle marker ('o')\n",
    "\n",
    "# Draw diagonal lines crossing the center\n",
    "# First diagonal line (from bottom-left to top-right)\n",
    "\n",
    "# Set plot limits for better visibility and to focus on the central part\n",
    "ax.set_xlim(0, 4)\n",
    "ax.set_ylim(0, 4)\n",
    "\n",
    "# Set equal scaling for x and y axes to make the diagonal lines straight\n",
    "ax.set_aspect('equal')\n",
    "\n",
    "# Remove grid and frame if desired\n",
    "ax.grid(False)\n",
    "ax.spines['top'].set_visible(False)\n",
    "ax.spines['right'].set_visible(False)\n",
    "ax.spines['left'].set_visible(False)\n",
    "ax.spines['bottom'].set_visible(False)\n",
    "\n",
    "# Remove tick marks and labels\n",
    "ax.tick_params(left=False, bottom=False, labelleft=False, labelbottom=False)\n",
    "\n",
    "# Save the plot to a file\n",
    "plt.savefig('/Users/muku/Desktop/six_circumcont.png', format='png', dpi=300, bbox_inches='tight', pad_inches=0)\n",
    "\n",
    "# Display the plot\n",
    "plt.show()\n"
   ]
  },
  {
   "cell_type": "markdown",
   "metadata": {},
   "source": [
    "## Spatial frequency computation"
   ]
  },
  {
   "cell_type": "code",
   "execution_count": 16,
   "metadata": {},
   "outputs": [],
   "source": [
    "import numpy as np\n",
    "from PIL import Image\n",
    "import matplotlib.pyplot as plt\n",
    "import os\n",
    "\n",
    "# Example list of image URLs (replace these with your actual image URLs or file paths)\n",
    "base_path = '/Users/muku/Desktop/Ph.D_MaxPlanck/Research/MINT/experiment/stimuli/visual'\n",
    "image_paths = [\n",
    "    os.path.join(base_path,'one_circumcont.png'),\n",
    "    os.path.join(base_path,'two_circumcont.png'),\n",
    "    os.path.join(base_path,'three_circumcont.png'),\n",
    "    os.path.join(base_path,'four_circumcont.png'),\n",
    "    os.path.join(base_path,'five_circumcont.png'),\n",
    "    os.path.join(base_path,'six_circumcont.png')\n",
    "]\n",
    "\n",
    "# Dictionary to store images with unique variable names\n",
    "images = {}\n",
    "\n",
    "# Loop through URLs and download each image\n",
    "for i, path in enumerate(image_paths):\n",
    "    img = Image.open(path).convert('L')\n",
    "    image_array = np.array(img)  # Open the image \n",
    "    variable_name = f\"number_{i+1}\"  # Create a unique variable name\n",
    "    # Compute the 2D Fourier Transform\n",
    "    fft_image = np.fft.fft2(image_array)\n",
    "\n",
    "    # Shift the zero-frequency component to the center\n",
    "    fft_image_shifted = np.fft.fftshift(fft_image)\n",
    "\n",
    "    # Compute the Power Spectral Density (PSD)\n",
    "    psd = np.abs(fft_image_shifted) ** 2\n",
    "\n",
    "    # Get the dimensions of the PSD\n",
    "    rows, cols = psd.shape\n",
    "\n",
    "    # Create frequency grid\n",
    "    x = np.arange(-cols // 2, cols // 2)\n",
    "    y = np.arange(-rows // 2, rows // 2)\n",
    "    xv, yv = np.meshgrid(x, y)\n",
    "    radius = np.sqrt(xv**2 + yv**2)\n",
    "\n",
    "    # Create annular bins\n",
    "    max_radius = int(np.max(radius))\n",
    "    annular_bins = np.arange(0, max_radius, 1)\n",
    "\n",
    "    psd_annular_sum = []\n",
    "    for r in annular_bins:\n",
    "        annular_mask = (radius >= r) & (radius < r + 1)\n",
    "        sum_value = psd[annular_mask].sum()\n",
    "        psd_annular_sum.append(sum_value)\n",
    "\n",
    "\n",
    "    images[variable_name] = psd_annular_sum\n",
    "\n",
    "\n"
   ]
  },
  {
   "cell_type": "markdown",
   "metadata": {},
   "source": [
    "Plot the power for each frequency"
   ]
  },
  {
   "cell_type": "code",
   "execution_count": null,
   "metadata": {},
   "outputs": [],
   "source": [
    "### ~~~~~~~~~~~ Figure loop\n",
    "\n",
    "colors = ['b', 'g', 'r', 'c', 'm', 'y']\n",
    "plt.figure(figsize=(10, 6))\n",
    "\n",
    "# Iterate through each dataset and plot it\n",
    "for i, (key, data) in enumerate(images.items()):\n",
    "    plt.plot(data[:30], marker='o', linestyle='-', color=colors[i], label=key)\n",
    "\n",
    "plt.yscale('log')\n",
    "plt.xlabel('Spatial Frequency (cycles/image)', size=15)\n",
    "plt.ylabel('Power Spectral Density (cycles/image)',  size=15)\n",
    "ticks = np.arange(30) # Customize x-axis tick labels to start from 1\n",
    "plt.xticks(ticks, ticks + 1)\n",
    "plt.legend()\n",
    "plt.grid(False)\n",
    "# Remove top and right spines\n",
    "ax = plt.gca()  # Get current axes\n",
    "ax.spines['top'].set_visible(False)  # Hide the top spine\n",
    "ax.spines['right'].set_visible(False) \n",
    "# Save the plot to a file\n",
    "plt.savefig('/Users/muku/Desktop/SF.png', format='png', bbox_inches='tight', pad_inches=0.2)\n",
    "\n",
    "plt.show()\n",
    "\n",
    "### Plot the 2D Fourier transform\n",
    "plt.subplot(122)\n",
    "plt.imshow(np.log(1 + psd), cmap='gray')  # Use log scaling for better visualization\n",
    "plt.axis('off')"
   ]
  },
  {
   "cell_type": "markdown",
   "metadata": {},
   "source": [
    "# RDM for spatial frequency"
   ]
  },
  {
   "cell_type": "code",
   "execution_count": 17,
   "metadata": {},
   "outputs": [
    {
     "name": "stdout",
     "output_type": "stream",
     "text": [
      "\n",
      "Nz_Dissimilarity Matrix:\n",
      "           number_1  number_2  number_3  number_4      number_5      number_6\n",
      "number_1  0.000000  0.941457  0.994688  0.999048  9.997489e-01  1.000000e+00\n",
      "number_2  0.941457  0.000000  0.002224  0.002846  2.931376e-03  2.953567e-03\n",
      "number_3  0.994688  0.002224  0.000000  0.000120  1.567052e-04  1.677173e-04\n",
      "number_4  0.999048  0.002846  0.000120  0.000000  7.278442e-06  1.102242e-05\n",
      "number_5  0.999749  0.002931  0.000157  0.000007  0.000000e+00  8.233347e-07\n",
      "number_6  1.000000  0.002954  0.000168  0.000011  8.233347e-07  0.000000e+00\n"
     ]
    },
    {
     "data": {
      "image/png": "[encoded data removed]",
      "text/plain": [
       "<Figure size 800x600 with 2 Axes>"
      ]
     },
     "metadata": {},
     "output_type": "display_data"
    }
   ],
   "source": [
    "import numpy as np\n",
    "import pandas as pd\n",
    "import seaborn as sns\n",
    "\n",
    "# Example: Create a random DataFrame with 6 columns and 1000 rows\n",
    "np.random.seed(0)  # For reproducibility\n",
    "data = pd.DataFrame(images)\n",
    "\n",
    "# Step 1: Compute the correlation matrix\n",
    "correlation_matrix = data.corr()\n",
    "\n",
    "# Step 2: Convert to dissimilarity matrix by subtracting each correlation value from 1\n",
    "dissimilarity_matrix = 1 - correlation_matrix\n",
    "\n",
    "nz_dissimilarity_matrix = dissimilarity_matrix / np.max(dissimilarity_matrix)\n",
    "\n",
    "# print(\"Correlation Matrix:\\n\", correlation_matrix)\n",
    "# print(\"\\nDissimilarity Matrix:\\n\", dissimilarity_matrix)\n",
    "print(\"\\nNz_Dissimilarity Matrix:\\n\", nz_dissimilarity_matrix)\n",
    "\n",
    "# Visualize the RDM using a heatmap\n",
    "numerosities = np.arange(1, 7)\n",
    "plt.figure(figsize=(8, 6))\n",
    "sns.heatmap(nz_dissimilarity_matrix, annot=True, cmap=\"plasma\", xticklabels=numerosities, yticklabels=numerosities)\n",
    "plt.savefig('/Users/muku/Desktop/RDM_SF_circumcont.png', format='png', bbox_inches='tight', pad_inches=0.2)\n",
    "plt.show()"
   ]
  },
  {
   "cell_type": "markdown",
   "metadata": {},
   "source": [
    "# Model RDM for numeroisty"
   ]
  },
  {
   "cell_type": "code",
   "execution_count": null,
   "metadata": {},
   "outputs": [],
   "source": [
    "import numpy as np\n",
    "import matplotlib.pyplot as plt\n",
    "import seaborn as sns\n",
    "\n",
    "# Define the range of numerosities\n",
    "numerosities = np.arange(1, 7)  # From 1 to 10\n",
    "\n",
    "# Initialize an empty RDM matrix\n",
    "n = len(numerosities)\n",
    "RDM = np.zeros((n, n))\n",
    "\n",
    "# Compute the Euclidean distance between each pair of numerosities\n",
    "for i in range(n):\n",
    "    for j in range(n):\n",
    "        RDM[i, j] = np.abs(numerosities[i] - numerosities[j])\n",
    "\n",
    "# Optional: Normalize the RDM\n",
    "RDM = RDM / np.max(RDM)\n",
    "\n",
    "# Visualize the RDM using a heatmap\n",
    "plt.figure(figsize=(8, 6))\n",
    "sns.heatmap(RDM, annot=True, cmap=\"plasma\", xticklabels=numerosities, yticklabels=numerosities)\n",
    "plt.savefig('/Users/muku/Desktop/RDM_numerosity.png', format='png', bbox_inches='tight', pad_inches=0.2)\n",
    "plt.show()\n"
   ]
  },
  {
   "cell_type": "markdown",
   "metadata": {},
   "source": [
    "# RDM for single dot area"
   ]
  },
  {
   "cell_type": "code",
   "execution_count": 3,
   "metadata": {},
   "outputs": [
    {
     "data": {
      "image/png": "[encoded data removed]",
      "text/plain": [
       "<Figure size 800x600 with 2 Axes>"
      ]
     },
     "metadata": {},
     "output_type": "display_data"
    }
   ],
   "source": [
    "import numpy as np\n",
    "import matplotlib.pyplot as plt\n",
    "import seaborn as sns\n",
    "\n",
    "# Define the range of numerosities\n",
    "numerosities = np.arange(1, 7)  # From 1 to 10\n",
    "single_dot_area = [90, 22, 10, 5, 3, 2]\n",
    "\n",
    "# Initialize an empty RDM matrix\n",
    "n = len(numerosities)\n",
    "RDM = np.zeros((n, n))\n",
    "\n",
    "# Compute the Euclidean distance between each pair of numerosities\n",
    "for i in range(n):\n",
    "    for j in range(n):\n",
    "        RDM[i, j] = np.abs(single_dot_area[i] - single_dot_area[j])\n",
    "\n",
    "# Optional: Normalize the RDM\n",
    "RDM = RDM / np.max(RDM)\n",
    "\n",
    "# Visualize the RDM using a heatmap\n",
    "plt.figure(figsize=(8, 6))\n",
    "sns.heatmap(RDM, annot=True, cmap=\"plasma\", xticklabels=numerosities, yticklabels=numerosities)\n",
    "plt.savefig('/Users/muku/Desktop/RDM_singledotarea_circumcont.png', format='png', bbox_inches='tight', pad_inches=0.2)\n",
    "plt.show()\n"
   ]
  },
  {
   "cell_type": "markdown",
   "metadata": {},
   "source": [
    "# RDM for circumference"
   ]
  },
  {
   "cell_type": "code",
   "execution_count": 1,
   "metadata": {},
   "outputs": [
    {
     "data": {
      "image/png": "[encoded data removed]",
      "text/plain": [
       "<Figure size 800x600 with 2 Axes>"
      ]
     },
     "metadata": {},
     "output_type": "display_data"
    }
   ],
   "source": [
    "import numpy as np  # Re-import numpy after deleting the incorrect variable\n",
    "import matplotlib.pyplot as plt\n",
    "import seaborn as sns\n",
    "\n",
    "# Define the range of numerosities\n",
    "numerosities = np.arange(1, 7)  # From 1 to 10\n",
    "circumference = [11.2, 22.4, 33.6, 44.8, 56.0, 67.2]\n",
    "\n",
    "# Initialize an empty RDM matrix\n",
    "n = len(numerosities)\n",
    "RDM = np.zeros((n, n))\n",
    "\n",
    "# Compute the Euclidean distance between each pair of numerosities\n",
    "for i in range(n):\n",
    "    for j in range(n):\n",
    "        RDM[i, j] = np.abs(circumference[i] - circumference[j])\n",
    "\n",
    "# Optional: Normalize the RDM\n",
    "RDM = RDM / np.max(RDM)\n",
    "\n",
    "# Visualize the RDM using a heatmap\n",
    "plt.figure(figsize=(8, 6))\n",
    "sns.heatmap(RDM, annot=True, cmap=\"plasma\", xticklabels=numerosities, yticklabels=numerosities)\n",
    "plt.savefig('/Users/muku/Desktop/RDM_circumference_singledotcont.png', format='png', bbox_inches='tight', pad_inches=0.2)\n",
    "plt.show()\n"
   ]
  },
  {
   "cell_type": "code",
   "execution_count": 173,
   "metadata": {},
   "outputs": [
    {
     "data": {
      "text/plain": [
       "int"
      ]
     },
     "execution_count": 173,
     "metadata": {},
     "output_type": "execute_result"
    }
   ],
   "source": [
    "type(n)"
   ]
  },
  {
   "cell_type": "code",
   "execution_count": 7,
   "metadata": {},
   "outputs": [],
   "source": [
    "_trialList =  [   \n",
    "    {'condition': '1_con_duration', 'single_duration': 0.62, 'numerosity': 1},\n",
    "    {'condition': '2_con_duration', 'single_duration': 0.26, 'numerosity': 2},\n",
    "    {'condition': '3_con_duration', 'single_duration': 0.14, 'numerosity': 3},\n",
    "    {'condition': '4_con_duration', 'single_duration': 0.08, 'numerosity': 4},\n",
    "    {'condition': '5_con_duration', 'single_duration': 0.044, 'numerosity': 5},\n",
    "    {'condition': '6_con_duration', 'single_duration': 0.02, 'numerosity': 6},\n",
    "    {'condition': '1_con_rate', 'single_duration': 0.02, 'numerosity': 1},\n",
    "    {'condition': '2_con_rate', 'single_duration': 0.02, 'numerosity': 2},\n",
    "    {'condition': '3_con_rate', 'single_duration': 0.02, 'numerosity': 3},\n",
    "    {'condition': '4_con_rate', 'single_duration': 0.02, 'numerosity': 4},\n",
    "    {'condition': '5_con_rate', 'single_duration': 0.02, 'numerosity': 5},\n",
    "    {'condition': '6_con_rate', 'single_duration': 0.02, 'numerosity': 6},\n",
    "    ]"
   ]
  },
  {
   "cell_type": "code",
   "execution_count": 11,
   "metadata": {},
   "outputs": [
    {
     "name": "stdout",
     "output_type": "stream",
     "text": [
      "1_con_duration\n"
     ]
    }
   ],
   "source": [
    "print(_trialList[0]['condition'])"
   ]
  },
  {
   "cell_type": "code",
   "execution_count": 19,
   "metadata": {},
   "outputs": [
    {
     "name": "stdout",
     "output_type": "stream",
     "text": [
      "35\n"
     ]
    }
   ],
   "source": []
  },
  {
   "cell_type": "code",
   "execution_count": null,
   "metadata": {},
   "outputs": [],
   "source": []
  }
 ],
 "metadata": {
  "kernelspec": {
   "display_name": "INUIT",
   "language": "python",
   "name": "python3"
  },
  "language_info": {
   "codemirror_mode": {
    "name": "ipython",
    "version": 3
   },
   "file_extension": ".py",
   "mimetype": "text/x-python",
   "name": "python",
   "nbconvert_exporter": "python",
   "pygments_lexer": "ipython3",
   "version": "3.12.4"
  }
 },
 "nbformat": 4,
 "nbformat_minor": 2
}
