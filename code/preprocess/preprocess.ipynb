{
 "cells": [
  {
   "cell_type": "code",
   "execution_count": 36,
   "metadata": {},
   "outputs": [],
   "source": [
    "\n",
    "# ~~~~~~~~~~~~~~ Libraries\n",
    "import sys, os\n",
    "import mne # Python package for processing and analyzing electrophysiological data\n",
    "import numpy as np\n",
    "from glob import glob # look for all the pathnames matching a specified pattern according to the rules\n",
    "import matplotlib.pyplot as plt\n",
    "from mne.preprocessing import ICA # ICA (Independent Component Analysis) algorithm, which is for artifact removal\n",
    "from autoreject import AutoReject # Python package for automatically rejecting bad epochs in EEG/MEG data\n",
    "import json\n",
    "import owncloud\n"
   ]
  },
  {
   "cell_type": "code",
   "execution_count": 33,
   "metadata": {},
   "outputs": [
    {
     "name": "stdout",
     "output_type": "stream",
     "text": [
      "\n",
      "\n",
      " Processing visual EEG session 1 \n",
      "\n",
      "\n"
     ]
    }
   ],
   "source": [
    "# ~~~~~~~~~~~~~~ Environment\n",
    "\n",
    "# open parent folder of this script\n",
    "os.chdir('/Users/muku/Desktop/Ph.D_MaxPlanck/Research/MINT/code')\n",
    "\n",
    "with open(\"config.json\") as f: # The file object is referenced as f during the block.\n",
    "    config = json.load(f) \n",
    "globals().update(config)\n",
    "sys.path.append(BASE_DIR) # import custom python packages\n",
    "\n",
    "# import cusom functions\n",
    "from utils import create_if_not_exist, download_datashare_dir, update_eeg_headers, make_31_montage, calculate_artificial_channels\n",
    "\n",
    "# get arguments\n",
    "modality = 'visual'\n",
    "session = 1\n",
    "print(f\"\\n\\n Processing {modality} EEG session {session} \\n\\n\")\n",
    "\n",
    "\n"
   ]
  },
  {
   "cell_type": "code",
   "execution_count": 34,
   "metadata": {},
   "outputs": [],
   "source": [
    "# create directories\n",
    "create_if_not_exist(f\"{BASE_DIR}/data/raw/{modality}/session_{session}\") #  \"BASE_DIR\": \"/Users/muku/Desktop/Ph.D_MaxPlanck/Research/MINT\"\n",
    "create_if_not_exist(f\"{BASE_DIR}/data/interim/{modality}/session_{session}\")\n",
    "create_if_not_exist(f\"{BASE_DIR}/data/processed/{modality}/session_{session}\")"
   ]
  },
  {
   "cell_type": "code",
   "execution_count": 45,
   "metadata": {},
   "outputs": [
    {
     "name": "stdout",
     "output_type": "stream",
     "text": [
      "/MINT/raw/audio/ will be locally donwloaded from owncloud\n",
      "audio\n",
      "/MINT/raw/visual/ will be locally donwloaded from owncloud\n",
      "visual\n"
     ]
    }
   ],
   "source": [
    "# access to owncloud where raw data is stored\n",
    "datashare = owncloud.Client('https://datashare.mpcdf.mpg.de')\n",
    "DATASHARE_USER = 'kazma'\n",
    "DATASHARE_PASS = 'Xt98iCm4XQHH!vf' # my MPCDF password\n",
    "datashare.login(DATASHARE_USER, DATASHARE_PASS) # replace with actual username and password\n",
    "\n",
    "# List root directory to check if login works\n",
    "files = datashare.list('/MINT/raw')\n",
    "# Print only the file names\n",
    "for file in files:\n",
    "    # Get only the name, not the full path\n",
    "    file_name = file.path  # Extracts the last part of the path\n",
    "    print(f'{file_name} will be locally donwloaded from owncloud')\n",
    "    print(file.name)"
   ]
  },
  {
   "cell_type": "code",
   "execution_count": 47,
   "metadata": {},
   "outputs": [
    {
     "name": "stdout",
     "output_type": "stream",
     "text": [
      "Downloading /MINT/raw/audio/ to /Users/muku/Desktop/Ph.D_MaxPlanck/Research/MINT/data/raw/audio\n",
      "Downloading /MINT/raw/visual/ to /Users/muku/Desktop/Ph.D_MaxPlanck/Research/MINT/data/raw/visual\n"
     ]
    }
   ],
   "source": [
    "TARGET_FOLDER = os.path.join(BASE_DIR, 'data', 'raw')\n",
    "\n",
    "# Loop over session folders on DataShare\n",
    "for file in files:\n",
    "    # Explicity exclude certain file names\n",
    "    if file.name.startswith('._'):\n",
    "        continue\n",
    "\n",
    "    # Download if it doesn't exist\n",
    "    local_file = os.path.join(TARGET_FOLDER, file.name)\n",
    "    if not os.path.exists(local_file): \n",
    "        \n",
    "        # Download zip file\n",
    "        print(f'Downloading {file.path} to {local_file}')\n",
    "        create_if_not_exist(TARGET_FOLDER)\n",
    "        datashare.get_file(file, local_file)        \n",
    "    else:\n",
    "        print(f\"File {local_file} already exists. Skipping download.\")"
   ]
  },
  {
   "cell_type": "code",
   "execution_count": null,
   "metadata": {},
   "outputs": [],
   "source": []
  }
 ],
 "metadata": {
  "kernelspec": {
   "display_name": "MINT_miniforge",
   "language": "python",
   "name": "python3"
  },
  "language_info": {
   "codemirror_mode": {
    "name": "ipython",
    "version": 3
   },
   "file_extension": ".py",
   "mimetype": "text/x-python",
   "name": "python",
   "nbconvert_exporter": "python",
   "pygments_lexer": "ipython3",
   "version": "3.12.2"
  }
 },
 "nbformat": 4,
 "nbformat_minor": 2
}
