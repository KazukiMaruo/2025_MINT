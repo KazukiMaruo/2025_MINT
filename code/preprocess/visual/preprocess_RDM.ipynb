{
 "cells": [
  {
   "cell_type": "code",
   "execution_count": 8,
   "metadata": {},
   "outputs": [
    {
     "name": "stdout",
     "output_type": "stream",
     "text": [
      "/viper/u/kazma/MINT/code\n"
     ]
    }
   ],
   "source": [
    "# ~~~~~~~~~~~~~~ Libraries\n",
    "import sys, os\n",
    "import mne # Python package for processing and analyzing electrophysiological data\n",
    "import numpy as np\n",
    "from glob import glob # look for all the pathnames matching a specified pattern according to the rules\n",
    "import matplotlib.pyplot as plt\n",
    "from mne.preprocessing import ICA # ICA (Independent Component Analysis) algorithm, which is for artifact removal\n",
    "from autoreject import AutoReject # Python package for automatically rejecting bad epochs in EEG/MEG data\n",
    "import json\n",
    "import re\n",
    "import pandas as pd\n",
    "# ~~~~~~~~~~~~~~ Libraries ~~~~~~~~~~~~~~\n",
    "\n",
    "# ~~~~~~~~~~~~~~ open json paramete files and import functions\n",
    "# open parent folder of this script\n",
    "os.chdir('/u/kazma/MINT/code/')\n",
    "\n",
    "with open(\"config.json\") as f: # import variables from config.json\n",
    "    config = json.load(f) \n",
    "globals().update(config)\n",
    "sys.path.append(BASE_DIR) # import custom python packages\n",
    "print(os.getcwd())\n",
    "from utils import create_if_not_exist, download_datashare_dir, update_eeg_headers, make_31_montage, calculate_artificial_channels\n",
    "# ~~~~~~~~~~~~~~ open json paramete files and import functions ~~~~~~~~~~~~~~\n"
   ]
  },
  {
   "cell_type": "code",
   "execution_count": 9,
   "metadata": {},
   "outputs": [
    {
     "name": "stdout",
     "output_type": "stream",
     "text": [
      "\n",
      "\n",
      " Processing visual EEG session 1 of sub-01_ses-01\n",
      "\n",
      "\n",
      "File /u/kazma/MINT/data/raw/visual/sub-01_ses-01/1_visual_2024-10-29_10h05.55.903.csv already exists. Skipping download.\n",
      "File /u/kazma/MINT/data/raw/visual/sub-01_ses-01/1_visual_2024-10-29_10h05.55.903.log already exists. Skipping download.\n",
      "File /u/kazma/MINT/data/raw/visual/sub-01_ses-01/1_visual_2024-10-29_10h05.55.903.psydat already exists. Skipping download.\n",
      "File /u/kazma/MINT/data/raw/visual/sub-01_ses-01/sub-01_ses-01.eeg already exists. Skipping download.\n",
      "File /u/kazma/MINT/data/raw/visual/sub-01_ses-01/sub-01_ses-01.vhdr already exists. Skipping download.\n",
      "File /u/kazma/MINT/data/raw/visual/sub-01_ses-01/sub-01_ses-01.vmrk already exists. Skipping download.\n"
     ]
    }
   ],
   "source": [
    "# ~~~~~~~~~~~~~~ Pre-processing Parameters\n",
    "modality = 'visual'\n",
    "session = 1\n",
    "sub_name = 'sub-01_ses-01'\n",
    "print(f\"\\n\\n Processing {modality} EEG session {session} of {sub_name}\\n\\n\")\n",
    "# ~~~~~~~~~~~~~~ Pre-processing Parameters ~~~~~~~~~~~~~~\n",
    "\n",
    "# ~~~~~~~~~~~~~~ Path settings and make folders\n",
    "datashare_dir_path = os.path.join(DATASHARE_RAW_FOLDER, modality, sub_name) #  \"DATASHARE_RAW_FOLDER\": \"MINT/raw/\",\n",
    "# create directories\n",
    "raw_target_dir_path = os.path.join(BASE_DIR, 'data', 'raw', modality, sub_name)\n",
    "interim_target_dir_path = os.path.join(BASE_DIR, 'data', 'interim', modality, sub_name)\n",
    "processed_target_dir_path = os.path.join(BASE_DIR, 'data', 'processed', modality, sub_name)\n",
    "create_if_not_exist(raw_target_dir_path) \n",
    "create_if_not_exist(interim_target_dir_path)\n",
    "create_if_not_exist(processed_target_dir_path) \n",
    "# the interested file name\n",
    "target_file_name = f\"{raw_target_dir_path}/{sub_name}.vhdr\"\n",
    "# ~~~~~~~~~~~~~~ Path settings and make folders ~~~~~~~~~~~~~~\n",
    "\n",
    "\n",
    "# ~~~~~~~~~~~~~~ load data from datashare\n",
    "download_datashare_dir(datashare_dir = datashare_dir_path,\n",
    "                       target_dir = raw_target_dir_path, \n",
    "                       datashare_user = DATASHARE_USER) # \"DATASHARE_USER\": \"kazma\",\n",
    "# get eeg headers from datashare\n",
    "update_eeg_headers(target_file_name) \n",
    "# ~~~~~~~~~~~~~~ load data from datashare ~~~~~~~~~~~~~~\n"
   ]
  },
  {
   "cell_type": "code",
   "execution_count": 10,
   "metadata": {},
   "outputs": [
    {
     "name": "stdout",
     "output_type": "stream",
     "text": [
      "430    6_con_circum_image_70.png\n",
      "Name: image_name, dtype: object\n"
     ]
    }
   ],
   "source": [
    "# ~~~~~~~~~~~~~~ Load data and the data ajustments\n",
    "raw = mne.io.read_raw_brainvision(target_file_name,  # Brain vision file format contains three files .vhdr for the header, .eeg for the data, and .vmrk for events\n",
    "                                  misc='auto', # misc = Specifies that channels labeled as miscellaneous (e.g., auxiliary or non-EEG channels) should be automatically detected.\n",
    "                                  scale=1.0, # 1.0 means no change for scale\n",
    "                                  preload=True, # the data is loaded directly into memory. This allows for faster processing \n",
    "                                  verbose=False) # Suppresses output during the loading process (helpful when you don’t want too much logging information\n",
    "raw.rename_channels({'VP': 'Fp2',  # In this case, the channel labeled VP is renamed to Fp2, and VM is renamed to Fp1.\n",
    "                     'VM': 'Fp1'})\n",
    "raw.set_montage(make_31_montage(raw))\n",
    "\n",
    "\n",
    "# Load csv file\n",
    "csv_file = [f for f in os.listdir(raw_target_dir_path) if f.endswith('.csv')] # List all files in the folder and filter for .csv files\n",
    "csv_df = pd.read_csv(os.path.join(raw_target_dir_path, csv_file[0])) # Load the CSV file into a DataFrame \"\"\"\n",
    "\n",
    "# Define conditions\n",
    "conditions = [\n",
    "    csv_df['image_name'].str.contains('totaldot'),       # Condition 1: contains 'singledot'\n",
    "    csv_df['image_name'].str.contains('circum')    # Condition 2: contains 'circumference'\n",
    "]\n",
    "\n",
    "# Define corresponding values to increase the 'index' by\n",
    "values = [\n",
    "    csv_df['image_number'] + 70,   # Increase by 70 if 'singledot' is found\n",
    "    csv_df['image_number'] + 140   # Increase by 140 if 'circumference' is found\n",
    "]\n",
    "\n",
    "# Apply np.select() to update the 'index' based on conditions\n",
    "csv_df['image_number'] = np.select(conditions, values, default=csv_df['image_number'])\n",
    "\n",
    "# Define conditions\n",
    "conditions = [\n",
    "    csv_df['image_name'].str.startswith('2'),       # Condition 1: contains 'singledot'\n",
    "    csv_df['image_name'].str.startswith('3'), \n",
    "    csv_df['image_name'].str.startswith('4'),\n",
    "    csv_df['image_name'].str.startswith('5'),\n",
    "    csv_df['image_name'].str.startswith('6')       # Condition 2: contains 'circumference'\n",
    "]\n",
    "\n",
    "# Define corresponding values to increase the 'index' by\n",
    "values = [\n",
    "    csv_df['image_number'] + 210,   # Increase by 70 if 'singledot' is found\n",
    "    csv_df['image_number'] + 210*2,\n",
    "    csv_df['image_number'] + 210*3,\n",
    "    csv_df['image_number'] + 210*4,\n",
    "    csv_df['image_number'] + 210*5   # Increase by 140 if 'circumference' is found\n",
    "]\n",
    "\n",
    "csv_df['image_number'] = np.select(conditions, values, default=csv_df['image_number'])\n",
    "print(csv_df[csv_df['image_number']==1260]['image_name'])\n"
   ]
  },
  {
   "cell_type": "code",
   "execution_count": 11,
   "metadata": {},
   "outputs": [
    {
     "name": "stdout",
     "output_type": "stream",
     "text": [
      "Used Annotations descriptions: ['1_con_circum_image_1.png', '1_con_circum_image_10.png', '1_con_circum_image_11.png', '1_con_circum_image_12.png', '1_con_circum_image_13.png', '1_con_circum_image_14.png', '1_con_circum_image_15.png', '1_con_circum_image_16.png', '1_con_circum_image_17.png', '1_con_circum_image_18.png', '1_con_circum_image_19.png', '1_con_circum_image_2.png', '1_con_circum_image_20.png', '1_con_circum_image_21.png', '1_con_circum_image_22.png', '1_con_circum_image_23.png', '1_con_circum_image_24.png', '1_con_circum_image_25.png', '1_con_circum_image_26.png', '1_con_circum_image_27.png', '1_con_circum_image_28.png', '1_con_circum_image_29.png', '1_con_circum_image_3.png', '1_con_circum_image_30.png', '1_con_circum_image_31.png', '1_con_circum_image_32.png', '1_con_circum_image_33.png', '1_con_circum_image_34.png', '1_con_circum_image_35.png', '1_con_circum_image_36.png', '1_con_circum_image_37.png', '1_con_circum_image_38.png', '1_con_circum_image_39.png', '1_con_circum_image_4.png', '1_con_circum_image_40.png', '1_con_circum_image_41.png', '1_con_circum_image_42.png', '1_con_circum_image_43.png', '1_con_circum_image_44.png', '1_con_circum_image_45.png', '1_con_circum_image_46.png', '1_con_circum_image_47.png', '1_con_circum_image_48.png', '1_con_circum_image_49.png', '1_con_circum_image_5.png', '1_con_circum_image_50.png', '1_con_circum_image_51.png', '1_con_circum_image_52.png', '1_con_circum_image_53.png', '1_con_circum_image_54.png', '1_con_circum_image_55.png', '1_con_circum_image_56.png', '1_con_circum_image_57.png', '1_con_circum_image_58.png', '1_con_circum_image_59.png', '1_con_circum_image_6.png', '1_con_circum_image_60.png', '1_con_circum_image_61.png', '1_con_circum_image_62.png', '1_con_circum_image_63.png', '1_con_circum_image_64.png', '1_con_circum_image_65.png', '1_con_circum_image_66.png', '1_con_circum_image_67.png', '1_con_circum_image_68.png', '1_con_circum_image_69.png', '1_con_circum_image_7.png', '1_con_circum_image_70.png', '1_con_circum_image_8.png', '1_con_circum_image_9.png', '1_con_singledot_image_1.png', '1_con_singledot_image_10.png', '1_con_singledot_image_11.png', '1_con_singledot_image_12.png', '1_con_singledot_image_13.png', '1_con_singledot_image_14.png', '1_con_singledot_image_15.png', '1_con_singledot_image_16.png', '1_con_singledot_image_17.png', '1_con_singledot_image_18.png', '1_con_singledot_image_19.png', '1_con_singledot_image_2.png', '1_con_singledot_image_20.png', '1_con_singledot_image_21.png', '1_con_singledot_image_22.png', '1_con_singledot_image_23.png', '1_con_singledot_image_24.png', '1_con_singledot_image_25.png', '1_con_singledot_image_26.png', '1_con_singledot_image_27.png', '1_con_singledot_image_28.png', '1_con_singledot_image_29.png', '1_con_singledot_image_3.png', '1_con_singledot_image_30.png', '1_con_singledot_image_31.png', '1_con_singledot_image_32.png', '1_con_singledot_image_33.png', '1_con_singledot_image_34.png', '1_con_singledot_image_35.png', '1_con_singledot_image_36.png', '1_con_singledot_image_37.png', '1_con_singledot_image_38.png', '1_con_singledot_image_39.png', '1_con_singledot_image_4.png', '1_con_singledot_image_40.png', '1_con_singledot_image_41.png', '1_con_singledot_image_42.png', '1_con_singledot_image_43.png', '1_con_singledot_image_44.png', '1_con_singledot_image_45.png', '1_con_singledot_image_46.png', '1_con_singledot_image_47.png', '1_con_singledot_image_48.png', '1_con_singledot_image_49.png', '1_con_singledot_image_5.png', '1_con_singledot_image_50.png', '1_con_singledot_image_51.png', '1_con_singledot_image_52.png', '1_con_singledot_image_53.png', '1_con_singledot_image_54.png', '1_con_singledot_image_55.png', '1_con_singledot_image_56.png', '1_con_singledot_image_57.png', '1_con_singledot_image_58.png', '1_con_singledot_image_59.png', '1_con_singledot_image_6.png', '1_con_singledot_image_60.png', '1_con_singledot_image_61.png', '1_con_singledot_image_62.png', '1_con_singledot_image_63.png', '1_con_singledot_image_64.png', '1_con_singledot_image_65.png', '1_con_singledot_image_66.png', '1_con_singledot_image_67.png', '1_con_singledot_image_68.png', '1_con_singledot_image_69.png', '1_con_singledot_image_7.png', '1_con_singledot_image_70.png', '1_con_singledot_image_8.png', '1_con_singledot_image_9.png', '1_con_totaldot_image_1.png', '1_con_totaldot_image_10.png', '1_con_totaldot_image_11.png', '1_con_totaldot_image_12.png', '1_con_totaldot_image_13.png', '1_con_totaldot_image_14.png', '1_con_totaldot_image_15.png', '1_con_totaldot_image_16.png', '1_con_totaldot_image_17.png', '1_con_totaldot_image_18.png', '1_con_totaldot_image_19.png', '1_con_totaldot_image_2.png', '1_con_totaldot_image_20.png', '1_con_totaldot_image_21.png', '1_con_totaldot_image_22.png', '1_con_totaldot_image_23.png', '1_con_totaldot_image_24.png', '1_con_totaldot_image_25.png', '1_con_totaldot_image_26.png', '1_con_totaldot_image_27.png', '1_con_totaldot_image_28.png', '1_con_totaldot_image_29.png', '1_con_totaldot_image_3.png', '1_con_totaldot_image_30.png', '1_con_totaldot_image_31.png', '1_con_totaldot_image_32.png', '1_con_totaldot_image_33.png', '1_con_totaldot_image_34.png', '1_con_totaldot_image_35.png', '1_con_totaldot_image_36.png', '1_con_totaldot_image_37.png', '1_con_totaldot_image_38.png', '1_con_totaldot_image_39.png', '1_con_totaldot_image_4.png', '1_con_totaldot_image_40.png', '1_con_totaldot_image_41.png', '1_con_totaldot_image_42.png', '1_con_totaldot_image_43.png', '1_con_totaldot_image_44.png', '1_con_totaldot_image_45.png', '1_con_totaldot_image_46.png', '1_con_totaldot_image_47.png', '1_con_totaldot_image_48.png', '1_con_totaldot_image_49.png', '1_con_totaldot_image_5.png', '1_con_totaldot_image_50.png', '1_con_totaldot_image_51.png', '1_con_totaldot_image_52.png', '1_con_totaldot_image_53.png', '1_con_totaldot_image_54.png', '1_con_totaldot_image_55.png', '1_con_totaldot_image_56.png', '1_con_totaldot_image_57.png', '1_con_totaldot_image_58.png', '1_con_totaldot_image_59.png', '1_con_totaldot_image_6.png', '1_con_totaldot_image_60.png', '1_con_totaldot_image_61.png', '1_con_totaldot_image_62.png', '1_con_totaldot_image_63.png', '1_con_totaldot_image_64.png', '1_con_totaldot_image_65.png', '1_con_totaldot_image_66.png', '1_con_totaldot_image_67.png', '1_con_totaldot_image_68.png', '1_con_totaldot_image_69.png', '1_con_totaldot_image_7.png', '1_con_totaldot_image_70.png', '1_con_totaldot_image_8.png', '1_con_totaldot_image_9.png', '2_con_circum_image_1.png', '2_con_circum_image_10.png', '2_con_circum_image_11.png', '2_con_circum_image_12.png', '2_con_circum_image_13.png', '2_con_circum_image_14.png', '2_con_circum_image_15.png', '2_con_circum_image_16.png', '2_con_circum_image_17.png', '2_con_circum_image_18.png', '2_con_circum_image_19.png', '2_con_circum_image_2.png', '2_con_circum_image_20.png', '2_con_circum_image_21.png', '2_con_circum_image_22.png', '2_con_circum_image_23.png', '2_con_circum_image_24.png', '2_con_circum_image_25.png', '2_con_circum_image_26.png', '2_con_circum_image_27.png', '2_con_circum_image_28.png', '2_con_circum_image_29.png', '2_con_circum_image_3.png', '2_con_circum_image_30.png', '2_con_circum_image_31.png', '2_con_circum_image_32.png', '2_con_circum_image_33.png', '2_con_circum_image_34.png', '2_con_circum_image_35.png', '2_con_circum_image_36.png', '2_con_circum_image_37.png', '2_con_circum_image_38.png', '2_con_circum_image_39.png', '2_con_circum_image_4.png', '2_con_circum_image_40.png', '2_con_circum_image_41.png', '2_con_circum_image_42.png', '2_con_circum_image_43.png', '2_con_circum_image_44.png', '2_con_circum_image_45.png', '2_con_circum_image_46.png', '2_con_circum_image_47.png', '2_con_circum_image_48.png', '2_con_circum_image_49.png', '2_con_circum_image_5.png', '2_con_circum_image_50.png', '2_con_circum_image_51.png', '2_con_circum_image_52.png', '2_con_circum_image_53.png', '2_con_circum_image_54.png', '2_con_circum_image_55.png', '2_con_circum_image_56.png', '2_con_circum_image_57.png', '2_con_circum_image_58.png', '2_con_circum_image_59.png', '2_con_circum_image_6.png', '2_con_circum_image_60.png', '2_con_circum_image_61.png', '2_con_circum_image_62.png', '2_con_circum_image_63.png', '2_con_circum_image_64.png', '2_con_circum_image_65.png', '2_con_circum_image_66.png', '2_con_circum_image_67.png', '2_con_circum_image_68.png', '2_con_circum_image_69.png', '2_con_circum_image_7.png', '2_con_circum_image_70.png', '2_con_circum_image_8.png', '2_con_circum_image_9.png', '2_con_singledot_image_1.png', '2_con_singledot_image_10.png', '2_con_singledot_image_11.png', '2_con_singledot_image_12.png', '2_con_singledot_image_13.png', '2_con_singledot_image_14.png', '2_con_singledot_image_15.png', '2_con_singledot_image_16.png', '2_con_singledot_image_17.png', '2_con_singledot_image_18.png', '2_con_singledot_image_19.png', '2_con_singledot_image_2.png', '2_con_singledot_image_20.png', '2_con_singledot_image_21.png', '2_con_singledot_image_22.png', '2_con_singledot_image_23.png', '2_con_singledot_image_24.png', '2_con_singledot_image_25.png', '2_con_singledot_image_26.png', '2_con_singledot_image_27.png', '2_con_singledot_image_28.png', '2_con_singledot_image_29.png', '2_con_singledot_image_3.png', '2_con_singledot_image_30.png', '2_con_singledot_image_31.png', '2_con_singledot_image_32.png', '2_con_singledot_image_33.png', '2_con_singledot_image_34.png', '2_con_singledot_image_35.png', '2_con_singledot_image_36.png', '2_con_singledot_image_37.png', '2_con_singledot_image_38.png', '2_con_singledot_image_39.png', '2_con_singledot_image_4.png', '2_con_singledot_image_40.png', '2_con_singledot_image_41.png', '2_con_singledot_image_42.png', '2_con_singledot_image_43.png', '2_con_singledot_image_44.png', '2_con_singledot_image_45.png', '2_con_singledot_image_46.png', '2_con_singledot_image_47.png', '2_con_singledot_image_48.png', '2_con_singledot_image_49.png', '2_con_singledot_image_5.png', '2_con_singledot_image_50.png', '2_con_singledot_image_51.png', '2_con_singledot_image_52.png', '2_con_singledot_image_53.png', '2_con_singledot_image_54.png', '2_con_singledot_image_55.png', '2_con_singledot_image_56.png', '2_con_singledot_image_57.png', '2_con_singledot_image_58.png', '2_con_singledot_image_59.png', '2_con_singledot_image_6.png', '2_con_singledot_image_60.png', '2_con_singledot_image_61.png', '2_con_singledot_image_62.png', '2_con_singledot_image_63.png', '2_con_singledot_image_64.png', '2_con_singledot_image_65.png', '2_con_singledot_image_66.png', '2_con_singledot_image_67.png', '2_con_singledot_image_68.png', '2_con_singledot_image_69.png', '2_con_singledot_image_7.png', '2_con_singledot_image_70.png', '2_con_singledot_image_8.png', '2_con_singledot_image_9.png', '2_con_totaldot_image_1.png', '2_con_totaldot_image_10.png', '2_con_totaldot_image_11.png', '2_con_totaldot_image_12.png', '2_con_totaldot_image_13.png', '2_con_totaldot_image_14.png', '2_con_totaldot_image_15.png', '2_con_totaldot_image_16.png', '2_con_totaldot_image_17.png', '2_con_totaldot_image_18.png', '2_con_totaldot_image_19.png', '2_con_totaldot_image_2.png', '2_con_totaldot_image_20.png', '2_con_totaldot_image_21.png', '2_con_totaldot_image_22.png', '2_con_totaldot_image_23.png', '2_con_totaldot_image_24.png', '2_con_totaldot_image_25.png', '2_con_totaldot_image_26.png', '2_con_totaldot_image_27.png', '2_con_totaldot_image_28.png', '2_con_totaldot_image_29.png', '2_con_totaldot_image_3.png', '2_con_totaldot_image_30.png', '2_con_totaldot_image_31.png', '2_con_totaldot_image_32.png', '2_con_totaldot_image_33.png', '2_con_totaldot_image_34.png', '2_con_totaldot_image_35.png', '2_con_totaldot_image_36.png', '2_con_totaldot_image_37.png', '2_con_totaldot_image_38.png', '2_con_totaldot_image_39.png', '2_con_totaldot_image_4.png', '2_con_totaldot_image_40.png', '2_con_totaldot_image_41.png', '2_con_totaldot_image_42.png', '2_con_totaldot_image_43.png', '2_con_totaldot_image_44.png', '2_con_totaldot_image_45.png', '2_con_totaldot_image_46.png', '2_con_totaldot_image_47.png', '2_con_totaldot_image_48.png', '2_con_totaldot_image_49.png', '2_con_totaldot_image_5.png', '2_con_totaldot_image_50.png', '2_con_totaldot_image_51.png', '2_con_totaldot_image_52.png', '2_con_totaldot_image_53.png', '2_con_totaldot_image_54.png', '2_con_totaldot_image_55.png', '2_con_totaldot_image_56.png', '2_con_totaldot_image_57.png', '2_con_totaldot_image_58.png', '2_con_totaldot_image_59.png', '2_con_totaldot_image_6.png', '2_con_totaldot_image_60.png', '2_con_totaldot_image_61.png', '2_con_totaldot_image_62.png', '2_con_totaldot_image_63.png', '2_con_totaldot_image_64.png', '2_con_totaldot_image_65.png', '2_con_totaldot_image_66.png', '2_con_totaldot_image_67.png', '2_con_totaldot_image_68.png', '2_con_totaldot_image_69.png', '2_con_totaldot_image_7.png', '2_con_totaldot_image_70.png', '2_con_totaldot_image_8.png', '2_con_totaldot_image_9.png', '3_con_circum_image_1.png', '3_con_circum_image_10.png', '3_con_circum_image_11.png', '3_con_circum_image_12.png', '3_con_circum_image_13.png', '3_con_circum_image_14.png', '3_con_circum_image_15.png', '3_con_circum_image_16.png', '3_con_circum_image_17.png', '3_con_circum_image_18.png', '3_con_circum_image_19.png', '3_con_circum_image_2.png', '3_con_circum_image_20.png', '3_con_circum_image_21.png', '3_con_circum_image_22.png', '3_con_circum_image_23.png', '3_con_circum_image_24.png', '3_con_circum_image_25.png', '3_con_circum_image_26.png', '3_con_circum_image_27.png', '3_con_circum_image_28.png', '3_con_circum_image_29.png', '3_con_circum_image_3.png', '3_con_circum_image_30.png', '3_con_circum_image_31.png', '3_con_circum_image_32.png', '3_con_circum_image_33.png', '3_con_circum_image_34.png', '3_con_circum_image_35.png', '3_con_circum_image_36.png', '3_con_circum_image_37.png', '3_con_circum_image_38.png', '3_con_circum_image_39.png', '3_con_circum_image_4.png', '3_con_circum_image_40.png', '3_con_circum_image_41.png', '3_con_circum_image_42.png', '3_con_circum_image_43.png', '3_con_circum_image_44.png', '3_con_circum_image_45.png', '3_con_circum_image_46.png', '3_con_circum_image_47.png', '3_con_circum_image_48.png', '3_con_circum_image_49.png', '3_con_circum_image_5.png', '3_con_circum_image_50.png', '3_con_circum_image_51.png', '3_con_circum_image_52.png', '3_con_circum_image_53.png', '3_con_circum_image_54.png', '3_con_circum_image_55.png', '3_con_circum_image_56.png', '3_con_circum_image_57.png', '3_con_circum_image_58.png', '3_con_circum_image_59.png', '3_con_circum_image_6.png', '3_con_circum_image_60.png', '3_con_circum_image_61.png', '3_con_circum_image_62.png', '3_con_circum_image_63.png', '3_con_circum_image_64.png', '3_con_circum_image_65.png', '3_con_circum_image_66.png', '3_con_circum_image_67.png', '3_con_circum_image_68.png', '3_con_circum_image_69.png', '3_con_circum_image_7.png', '3_con_circum_image_70.png', '3_con_circum_image_8.png', '3_con_circum_image_9.png', '3_con_singledot_image_1.png', '3_con_singledot_image_10.png', '3_con_singledot_image_11.png', '3_con_singledot_image_12.png', '3_con_singledot_image_13.png', '3_con_singledot_image_14.png', '3_con_singledot_image_15.png', '3_con_singledot_image_16.png', '3_con_singledot_image_17.png', '3_con_singledot_image_18.png', '3_con_singledot_image_19.png', '3_con_singledot_image_2.png', '3_con_singledot_image_20.png', '3_con_singledot_image_21.png', '3_con_singledot_image_22.png', '3_con_singledot_image_23.png', '3_con_singledot_image_24.png', '3_con_singledot_image_25.png', '3_con_singledot_image_26.png', '3_con_singledot_image_27.png', '3_con_singledot_image_28.png', '3_con_singledot_image_29.png', '3_con_singledot_image_3.png', '3_con_singledot_image_30.png', '3_con_singledot_image_31.png', '3_con_singledot_image_32.png', '3_con_singledot_image_33.png', '3_con_singledot_image_34.png', '3_con_singledot_image_35.png', '3_con_singledot_image_36.png', '3_con_singledot_image_37.png', '3_con_singledot_image_38.png', '3_con_singledot_image_39.png', '3_con_singledot_image_4.png', '3_con_singledot_image_40.png', '3_con_singledot_image_41.png', '3_con_singledot_image_42.png', '3_con_singledot_image_43.png', '3_con_singledot_image_44.png', '3_con_singledot_image_45.png', '3_con_singledot_image_46.png', '3_con_singledot_image_47.png', '3_con_singledot_image_48.png', '3_con_singledot_image_49.png', '3_con_singledot_image_5.png', '3_con_singledot_image_50.png', '3_con_singledot_image_51.png', '3_con_singledot_image_52.png', '3_con_singledot_image_53.png', '3_con_singledot_image_54.png', '3_con_singledot_image_55.png', '3_con_singledot_image_56.png', '3_con_singledot_image_57.png', '3_con_singledot_image_58.png', '3_con_singledot_image_59.png', '3_con_singledot_image_6.png', '3_con_singledot_image_60.png', '3_con_singledot_image_61.png', '3_con_singledot_image_62.png', '3_con_singledot_image_63.png', '3_con_singledot_image_64.png', '3_con_singledot_image_65.png', '3_con_singledot_image_66.png', '3_con_singledot_image_67.png', '3_con_singledot_image_68.png', '3_con_singledot_image_69.png', '3_con_singledot_image_7.png', '3_con_singledot_image_70.png', '3_con_singledot_image_8.png', '3_con_singledot_image_9.png', '3_con_totaldot_image_1.png', '3_con_totaldot_image_10.png', '3_con_totaldot_image_11.png', '3_con_totaldot_image_12.png', '3_con_totaldot_image_13.png', '3_con_totaldot_image_14.png', '3_con_totaldot_image_15.png', '3_con_totaldot_image_16.png', '3_con_totaldot_image_17.png', '3_con_totaldot_image_18.png', '3_con_totaldot_image_19.png', '3_con_totaldot_image_2.png', '3_con_totaldot_image_20.png', '3_con_totaldot_image_21.png', '3_con_totaldot_image_22.png', '3_con_totaldot_image_23.png', '3_con_totaldot_image_24.png', '3_con_totaldot_image_25.png', '3_con_totaldot_image_26.png', '3_con_totaldot_image_27.png', '3_con_totaldot_image_28.png', '3_con_totaldot_image_29.png', '3_con_totaldot_image_3.png', '3_con_totaldot_image_30.png', '3_con_totaldot_image_31.png', '3_con_totaldot_image_32.png', '3_con_totaldot_image_33.png', '3_con_totaldot_image_34.png', '3_con_totaldot_image_35.png', '3_con_totaldot_image_36.png', '3_con_totaldot_image_37.png', '3_con_totaldot_image_38.png', '3_con_totaldot_image_39.png', '3_con_totaldot_image_4.png', '3_con_totaldot_image_40.png', '3_con_totaldot_image_41.png', '3_con_totaldot_image_42.png', '3_con_totaldot_image_43.png', '3_con_totaldot_image_44.png', '3_con_totaldot_image_45.png', '3_con_totaldot_image_46.png', '3_con_totaldot_image_47.png', '3_con_totaldot_image_48.png', '3_con_totaldot_image_49.png', '3_con_totaldot_image_5.png', '3_con_totaldot_image_50.png', '3_con_totaldot_image_51.png', '3_con_totaldot_image_52.png', '3_con_totaldot_image_53.png', '3_con_totaldot_image_54.png', '3_con_totaldot_image_55.png', '3_con_totaldot_image_56.png', '3_con_totaldot_image_57.png', '3_con_totaldot_image_58.png', '3_con_totaldot_image_59.png', '3_con_totaldot_image_6.png', '3_con_totaldot_image_60.png', '3_con_totaldot_image_61.png', '3_con_totaldot_image_62.png', '3_con_totaldot_image_63.png', '3_con_totaldot_image_64.png', '3_con_totaldot_image_65.png', '3_con_totaldot_image_66.png', '3_con_totaldot_image_67.png', '3_con_totaldot_image_68.png', '3_con_totaldot_image_69.png', '3_con_totaldot_image_7.png', '3_con_totaldot_image_70.png', '3_con_totaldot_image_8.png', '3_con_totaldot_image_9.png', '4_con_circum_image_1.png', '4_con_circum_image_10.png', '4_con_circum_image_11.png', '4_con_circum_image_12.png', '4_con_circum_image_13.png', '4_con_circum_image_14.png', '4_con_circum_image_15.png', '4_con_circum_image_16.png', '4_con_circum_image_17.png', '4_con_circum_image_18.png', '4_con_circum_image_19.png', '4_con_circum_image_2.png', '4_con_circum_image_20.png', '4_con_circum_image_21.png', '4_con_circum_image_22.png', '4_con_circum_image_23.png', '4_con_circum_image_24.png', '4_con_circum_image_25.png', '4_con_circum_image_26.png', '4_con_circum_image_27.png', '4_con_circum_image_28.png', '4_con_circum_image_29.png', '4_con_circum_image_3.png', '4_con_circum_image_30.png', '4_con_circum_image_31.png', '4_con_circum_image_32.png', '4_con_circum_image_33.png', '4_con_circum_image_34.png', '4_con_circum_image_35.png', '4_con_circum_image_36.png', '4_con_circum_image_37.png', '4_con_circum_image_38.png', '4_con_circum_image_39.png', '4_con_circum_image_4.png', '4_con_circum_image_40.png', '4_con_circum_image_41.png', '4_con_circum_image_42.png', '4_con_circum_image_43.png', '4_con_circum_image_44.png', '4_con_circum_image_45.png', '4_con_circum_image_46.png', '4_con_circum_image_47.png', '4_con_circum_image_48.png', '4_con_circum_image_49.png', '4_con_circum_image_5.png', '4_con_circum_image_50.png', '4_con_circum_image_51.png', '4_con_circum_image_52.png', '4_con_circum_image_53.png', '4_con_circum_image_54.png', '4_con_circum_image_55.png', '4_con_circum_image_56.png', '4_con_circum_image_57.png', '4_con_circum_image_58.png', '4_con_circum_image_59.png', '4_con_circum_image_6.png', '4_con_circum_image_60.png', '4_con_circum_image_61.png', '4_con_circum_image_62.png', '4_con_circum_image_63.png', '4_con_circum_image_64.png', '4_con_circum_image_65.png', '4_con_circum_image_66.png', '4_con_circum_image_67.png', '4_con_circum_image_68.png', '4_con_circum_image_69.png', '4_con_circum_image_7.png', '4_con_circum_image_70.png', '4_con_circum_image_8.png', '4_con_circum_image_9.png', '4_con_singledot_image_1.png', '4_con_singledot_image_10.png', '4_con_singledot_image_11.png', '4_con_singledot_image_12.png', '4_con_singledot_image_13.png', '4_con_singledot_image_14.png', '4_con_singledot_image_15.png', '4_con_singledot_image_16.png', '4_con_singledot_image_17.png', '4_con_singledot_image_18.png', '4_con_singledot_image_19.png', '4_con_singledot_image_2.png', '4_con_singledot_image_20.png', '4_con_singledot_image_21.png', '4_con_singledot_image_22.png', '4_con_singledot_image_23.png', '4_con_singledot_image_24.png', '4_con_singledot_image_25.png', '4_con_singledot_image_26.png', '4_con_singledot_image_27.png', '4_con_singledot_image_28.png', '4_con_singledot_image_29.png', '4_con_singledot_image_3.png', '4_con_singledot_image_30.png', '4_con_singledot_image_31.png', '4_con_singledot_image_32.png', '4_con_singledot_image_33.png', '4_con_singledot_image_34.png', '4_con_singledot_image_35.png', '4_con_singledot_image_36.png', '4_con_singledot_image_37.png', '4_con_singledot_image_38.png', '4_con_singledot_image_39.png', '4_con_singledot_image_4.png', '4_con_singledot_image_40.png', '4_con_singledot_image_41.png', '4_con_singledot_image_42.png', '4_con_singledot_image_43.png', '4_con_singledot_image_44.png', '4_con_singledot_image_45.png', '4_con_singledot_image_46.png', '4_con_singledot_image_47.png', '4_con_singledot_image_48.png', '4_con_singledot_image_49.png', '4_con_singledot_image_5.png', '4_con_singledot_image_50.png', '4_con_singledot_image_51.png', '4_con_singledot_image_52.png', '4_con_singledot_image_53.png', '4_con_singledot_image_54.png', '4_con_singledot_image_55.png', '4_con_singledot_image_56.png', '4_con_singledot_image_57.png', '4_con_singledot_image_58.png', '4_con_singledot_image_59.png', '4_con_singledot_image_6.png', '4_con_singledot_image_60.png', '4_con_singledot_image_61.png', '4_con_singledot_image_62.png', '4_con_singledot_image_63.png', '4_con_singledot_image_64.png', '4_con_singledot_image_65.png', '4_con_singledot_image_66.png', '4_con_singledot_image_67.png', '4_con_singledot_image_68.png', '4_con_singledot_image_69.png', '4_con_singledot_image_7.png', '4_con_singledot_image_70.png', '4_con_singledot_image_8.png', '4_con_singledot_image_9.png', '4_con_totaldot_image_1.png', '4_con_totaldot_image_10.png', '4_con_totaldot_image_11.png', '4_con_totaldot_image_12.png', '4_con_totaldot_image_13.png', '4_con_totaldot_image_14.png', '4_con_totaldot_image_15.png', '4_con_totaldot_image_16.png', '4_con_totaldot_image_17.png', '4_con_totaldot_image_18.png', '4_con_totaldot_image_19.png', '4_con_totaldot_image_2.png', '4_con_totaldot_image_20.png', '4_con_totaldot_image_21.png', '4_con_totaldot_image_22.png', '4_con_totaldot_image_23.png', '4_con_totaldot_image_24.png', '4_con_totaldot_image_25.png', '4_con_totaldot_image_26.png', '4_con_totaldot_image_27.png', '4_con_totaldot_image_28.png', '4_con_totaldot_image_29.png', '4_con_totaldot_image_3.png', '4_con_totaldot_image_30.png', '4_con_totaldot_image_31.png', '4_con_totaldot_image_32.png', '4_con_totaldot_image_33.png', '4_con_totaldot_image_34.png', '4_con_totaldot_image_35.png', '4_con_totaldot_image_36.png', '4_con_totaldot_image_37.png', '4_con_totaldot_image_38.png', '4_con_totaldot_image_39.png', '4_con_totaldot_image_4.png', '4_con_totaldot_image_40.png', '4_con_totaldot_image_41.png', '4_con_totaldot_image_42.png', '4_con_totaldot_image_43.png', '4_con_totaldot_image_44.png', '4_con_totaldot_image_45.png', '4_con_totaldot_image_46.png', '4_con_totaldot_image_47.png', '4_con_totaldot_image_48.png', '4_con_totaldot_image_49.png', '4_con_totaldot_image_5.png', '4_con_totaldot_image_50.png', '4_con_totaldot_image_51.png', '4_con_totaldot_image_52.png', '4_con_totaldot_image_53.png', '4_con_totaldot_image_54.png', '4_con_totaldot_image_55.png', '4_con_totaldot_image_56.png', '4_con_totaldot_image_57.png', '4_con_totaldot_image_58.png', '4_con_totaldot_image_59.png', '4_con_totaldot_image_6.png', '4_con_totaldot_image_60.png', '4_con_totaldot_image_61.png', '4_con_totaldot_image_62.png', '4_con_totaldot_image_63.png', '4_con_totaldot_image_64.png', '4_con_totaldot_image_65.png', '4_con_totaldot_image_66.png', '4_con_totaldot_image_67.png', '4_con_totaldot_image_68.png', '4_con_totaldot_image_69.png', '4_con_totaldot_image_7.png', '4_con_totaldot_image_70.png', '4_con_totaldot_image_8.png', '4_con_totaldot_image_9.png', '5_con_circum_image_1.png', '5_con_circum_image_10.png', '5_con_circum_image_11.png', '5_con_circum_image_12.png', '5_con_circum_image_13.png', '5_con_circum_image_14.png', '5_con_circum_image_15.png', '5_con_circum_image_16.png', '5_con_circum_image_17.png', '5_con_circum_image_18.png', '5_con_circum_image_19.png', '5_con_circum_image_2.png', '5_con_circum_image_20.png', '5_con_circum_image_21.png', '5_con_circum_image_22.png', '5_con_circum_image_23.png', '5_con_circum_image_24.png', '5_con_circum_image_25.png', '5_con_circum_image_26.png', '5_con_circum_image_27.png', '5_con_circum_image_28.png', '5_con_circum_image_29.png', '5_con_circum_image_3.png', '5_con_circum_image_30.png', '5_con_circum_image_31.png', '5_con_circum_image_32.png', '5_con_circum_image_33.png', '5_con_circum_image_34.png', '5_con_circum_image_35.png', '5_con_circum_image_36.png', '5_con_circum_image_37.png', '5_con_circum_image_38.png', '5_con_circum_image_39.png', '5_con_circum_image_4.png', '5_con_circum_image_40.png', '5_con_circum_image_41.png', '5_con_circum_image_42.png', '5_con_circum_image_43.png', '5_con_circum_image_44.png', '5_con_circum_image_45.png', '5_con_circum_image_46.png', '5_con_circum_image_47.png', '5_con_circum_image_48.png', '5_con_circum_image_49.png', '5_con_circum_image_5.png', '5_con_circum_image_50.png', '5_con_circum_image_51.png', '5_con_circum_image_52.png', '5_con_circum_image_53.png', '5_con_circum_image_54.png', '5_con_circum_image_55.png', '5_con_circum_image_56.png', '5_con_circum_image_57.png', '5_con_circum_image_58.png', '5_con_circum_image_59.png', '5_con_circum_image_6.png', '5_con_circum_image_60.png', '5_con_circum_image_61.png', '5_con_circum_image_62.png', '5_con_circum_image_63.png', '5_con_circum_image_64.png', '5_con_circum_image_65.png', '5_con_circum_image_66.png', '5_con_circum_image_67.png', '5_con_circum_image_68.png', '5_con_circum_image_69.png', '5_con_circum_image_7.png', '5_con_circum_image_70.png', '5_con_circum_image_8.png', '5_con_circum_image_9.png', '5_con_singledot_image_1.png', '5_con_singledot_image_10.png', '5_con_singledot_image_11.png', '5_con_singledot_image_12.png', '5_con_singledot_image_13.png', '5_con_singledot_image_14.png', '5_con_singledot_image_15.png', '5_con_singledot_image_16.png', '5_con_singledot_image_17.png', '5_con_singledot_image_18.png', '5_con_singledot_image_19.png', '5_con_singledot_image_2.png', '5_con_singledot_image_20.png', '5_con_singledot_image_21.png', '5_con_singledot_image_22.png', '5_con_singledot_image_23.png', '5_con_singledot_image_24.png', '5_con_singledot_image_25.png', '5_con_singledot_image_26.png', '5_con_singledot_image_27.png', '5_con_singledot_image_28.png', '5_con_singledot_image_29.png', '5_con_singledot_image_3.png', '5_con_singledot_image_30.png', '5_con_singledot_image_31.png', '5_con_singledot_image_32.png', '5_con_singledot_image_33.png', '5_con_singledot_image_34.png', '5_con_singledot_image_35.png', '5_con_singledot_image_36.png', '5_con_singledot_image_37.png', '5_con_singledot_image_38.png', '5_con_singledot_image_39.png', '5_con_singledot_image_4.png', '5_con_singledot_image_40.png', '5_con_singledot_image_41.png', '5_con_singledot_image_42.png', '5_con_singledot_image_43.png', '5_con_singledot_image_44.png', '5_con_singledot_image_45.png', '5_con_singledot_image_46.png', '5_con_singledot_image_47.png', '5_con_singledot_image_48.png', '5_con_singledot_image_49.png', '5_con_singledot_image_5.png', '5_con_singledot_image_50.png', '5_con_singledot_image_51.png', '5_con_singledot_image_52.png', '5_con_singledot_image_53.png', '5_con_singledot_image_54.png', '5_con_singledot_image_55.png', '5_con_singledot_image_56.png', '5_con_singledot_image_57.png', '5_con_singledot_image_58.png', '5_con_singledot_image_59.png', '5_con_singledot_image_6.png', '5_con_singledot_image_60.png', '5_con_singledot_image_61.png', '5_con_singledot_image_62.png', '5_con_singledot_image_63.png', '5_con_singledot_image_64.png', '5_con_singledot_image_65.png', '5_con_singledot_image_66.png', '5_con_singledot_image_67.png', '5_con_singledot_image_68.png', '5_con_singledot_image_69.png', '5_con_singledot_image_7.png', '5_con_singledot_image_70.png', '5_con_singledot_image_8.png', '5_con_singledot_image_9.png', '5_con_totaldot_image_1.png', '5_con_totaldot_image_10.png', '5_con_totaldot_image_11.png', '5_con_totaldot_image_12.png', '5_con_totaldot_image_13.png', '5_con_totaldot_image_14.png', '5_con_totaldot_image_15.png', '5_con_totaldot_image_16.png', '5_con_totaldot_image_17.png', '5_con_totaldot_image_18.png', '5_con_totaldot_image_19.png', '5_con_totaldot_image_2.png', '5_con_totaldot_image_20.png', '5_con_totaldot_image_21.png', '5_con_totaldot_image_22.png', '5_con_totaldot_image_23.png', '5_con_totaldot_image_24.png', '5_con_totaldot_image_25.png', '5_con_totaldot_image_26.png', '5_con_totaldot_image_27.png', '5_con_totaldot_image_28.png', '5_con_totaldot_image_29.png', '5_con_totaldot_image_3.png', '5_con_totaldot_image_30.png', '5_con_totaldot_image_31.png', '5_con_totaldot_image_32.png', '5_con_totaldot_image_33.png', '5_con_totaldot_image_34.png', '5_con_totaldot_image_35.png', '5_con_totaldot_image_36.png', '5_con_totaldot_image_37.png', '5_con_totaldot_image_38.png', '5_con_totaldot_image_39.png', '5_con_totaldot_image_4.png', '5_con_totaldot_image_40.png', '5_con_totaldot_image_41.png', '5_con_totaldot_image_42.png', '5_con_totaldot_image_43.png', '5_con_totaldot_image_44.png', '5_con_totaldot_image_45.png', '5_con_totaldot_image_46.png', '5_con_totaldot_image_47.png', '5_con_totaldot_image_48.png', '5_con_totaldot_image_49.png', '5_con_totaldot_image_5.png', '5_con_totaldot_image_50.png', '5_con_totaldot_image_51.png', '5_con_totaldot_image_52.png', '5_con_totaldot_image_53.png', '5_con_totaldot_image_54.png', '5_con_totaldot_image_55.png', '5_con_totaldot_image_56.png', '5_con_totaldot_image_57.png', '5_con_totaldot_image_58.png', '5_con_totaldot_image_59.png', '5_con_totaldot_image_6.png', '5_con_totaldot_image_60.png', '5_con_totaldot_image_61.png', '5_con_totaldot_image_62.png', '5_con_totaldot_image_63.png', '5_con_totaldot_image_64.png', '5_con_totaldot_image_65.png', '5_con_totaldot_image_66.png', '5_con_totaldot_image_67.png', '5_con_totaldot_image_68.png', '5_con_totaldot_image_69.png', '5_con_totaldot_image_7.png', '5_con_totaldot_image_70.png', '5_con_totaldot_image_8.png', '5_con_totaldot_image_9.png', '6_con_circum_image_1.png', '6_con_circum_image_10.png', '6_con_circum_image_11.png', '6_con_circum_image_12.png', '6_con_circum_image_13.png', '6_con_circum_image_14.png', '6_con_circum_image_15.png', '6_con_circum_image_16.png', '6_con_circum_image_17.png', '6_con_circum_image_18.png', '6_con_circum_image_19.png', '6_con_circum_image_2.png', '6_con_circum_image_20.png', '6_con_circum_image_21.png', '6_con_circum_image_22.png', '6_con_circum_image_23.png', '6_con_circum_image_24.png', '6_con_circum_image_25.png', '6_con_circum_image_26.png', '6_con_circum_image_27.png', '6_con_circum_image_28.png', '6_con_circum_image_29.png', '6_con_circum_image_3.png', '6_con_circum_image_30.png', '6_con_circum_image_31.png', '6_con_circum_image_32.png', '6_con_circum_image_33.png', '6_con_circum_image_34.png', '6_con_circum_image_35.png', '6_con_circum_image_36.png', '6_con_circum_image_37.png', '6_con_circum_image_38.png', '6_con_circum_image_39.png', '6_con_circum_image_4.png', '6_con_circum_image_40.png', '6_con_circum_image_41.png', '6_con_circum_image_42.png', '6_con_circum_image_43.png', '6_con_circum_image_44.png', '6_con_circum_image_45.png', '6_con_circum_image_46.png', '6_con_circum_image_47.png', '6_con_circum_image_48.png', '6_con_circum_image_49.png', '6_con_circum_image_5.png', '6_con_circum_image_50.png', '6_con_circum_image_51.png', '6_con_circum_image_52.png', '6_con_circum_image_53.png', '6_con_circum_image_54.png', '6_con_circum_image_55.png', '6_con_circum_image_56.png', '6_con_circum_image_57.png', '6_con_circum_image_58.png', '6_con_circum_image_59.png', '6_con_circum_image_6.png', '6_con_circum_image_60.png', '6_con_circum_image_61.png', '6_con_circum_image_62.png', '6_con_circum_image_63.png', '6_con_circum_image_64.png', '6_con_circum_image_65.png', '6_con_circum_image_66.png', '6_con_circum_image_67.png', '6_con_circum_image_68.png', '6_con_circum_image_69.png', '6_con_circum_image_7.png', '6_con_circum_image_70.png', '6_con_circum_image_8.png', '6_con_circum_image_9.png', '6_con_singledot_image_1.png', '6_con_singledot_image_10.png', '6_con_singledot_image_11.png', '6_con_singledot_image_12.png', '6_con_singledot_image_13.png', '6_con_singledot_image_14.png', '6_con_singledot_image_15.png', '6_con_singledot_image_16.png', '6_con_singledot_image_17.png', '6_con_singledot_image_18.png', '6_con_singledot_image_19.png', '6_con_singledot_image_2.png', '6_con_singledot_image_20.png', '6_con_singledot_image_21.png', '6_con_singledot_image_22.png', '6_con_singledot_image_23.png', '6_con_singledot_image_24.png', '6_con_singledot_image_25.png', '6_con_singledot_image_26.png', '6_con_singledot_image_27.png', '6_con_singledot_image_28.png', '6_con_singledot_image_29.png', '6_con_singledot_image_3.png', '6_con_singledot_image_30.png', '6_con_singledot_image_31.png', '6_con_singledot_image_32.png', '6_con_singledot_image_33.png', '6_con_singledot_image_34.png', '6_con_singledot_image_35.png', '6_con_singledot_image_36.png', '6_con_singledot_image_37.png', '6_con_singledot_image_38.png', '6_con_singledot_image_39.png', '6_con_singledot_image_4.png', '6_con_singledot_image_40.png', '6_con_singledot_image_41.png', '6_con_singledot_image_42.png', '6_con_singledot_image_43.png', '6_con_singledot_image_44.png', '6_con_singledot_image_45.png', '6_con_singledot_image_46.png', '6_con_singledot_image_47.png', '6_con_singledot_image_48.png', '6_con_singledot_image_49.png', '6_con_singledot_image_5.png', '6_con_singledot_image_50.png', '6_con_singledot_image_51.png', '6_con_singledot_image_52.png', '6_con_singledot_image_53.png', '6_con_singledot_image_54.png', '6_con_singledot_image_55.png', '6_con_singledot_image_56.png', '6_con_singledot_image_57.png', '6_con_singledot_image_58.png', '6_con_singledot_image_59.png', '6_con_singledot_image_6.png', '6_con_singledot_image_60.png', '6_con_singledot_image_61.png', '6_con_singledot_image_62.png', '6_con_singledot_image_63.png', '6_con_singledot_image_64.png', '6_con_singledot_image_65.png', '6_con_singledot_image_66.png', '6_con_singledot_image_67.png', '6_con_singledot_image_68.png', '6_con_singledot_image_69.png', '6_con_singledot_image_7.png', '6_con_singledot_image_70.png', '6_con_singledot_image_8.png', '6_con_singledot_image_9.png', '6_con_totaldot_image_1.png', '6_con_totaldot_image_10.png', '6_con_totaldot_image_11.png', '6_con_totaldot_image_12.png', '6_con_totaldot_image_13.png', '6_con_totaldot_image_14.png', '6_con_totaldot_image_15.png', '6_con_totaldot_image_16.png', '6_con_totaldot_image_17.png', '6_con_totaldot_image_18.png', '6_con_totaldot_image_19.png', '6_con_totaldot_image_2.png', '6_con_totaldot_image_20.png', '6_con_totaldot_image_21.png', '6_con_totaldot_image_22.png', '6_con_totaldot_image_23.png', '6_con_totaldot_image_24.png', '6_con_totaldot_image_25.png', '6_con_totaldot_image_26.png', '6_con_totaldot_image_27.png', '6_con_totaldot_image_28.png', '6_con_totaldot_image_29.png', '6_con_totaldot_image_3.png', '6_con_totaldot_image_30.png', '6_con_totaldot_image_31.png', '6_con_totaldot_image_32.png', '6_con_totaldot_image_33.png', '6_con_totaldot_image_34.png', '6_con_totaldot_image_35.png', '6_con_totaldot_image_36.png', '6_con_totaldot_image_37.png', '6_con_totaldot_image_38.png', '6_con_totaldot_image_39.png', '6_con_totaldot_image_4.png', '6_con_totaldot_image_40.png', '6_con_totaldot_image_41.png', '6_con_totaldot_image_42.png', '6_con_totaldot_image_43.png', '6_con_totaldot_image_44.png', '6_con_totaldot_image_45.png', '6_con_totaldot_image_46.png', '6_con_totaldot_image_47.png', '6_con_totaldot_image_48.png', '6_con_totaldot_image_49.png', '6_con_totaldot_image_5.png', '6_con_totaldot_image_50.png', '6_con_totaldot_image_51.png', '6_con_totaldot_image_52.png', '6_con_totaldot_image_53.png', '6_con_totaldot_image_54.png', '6_con_totaldot_image_55.png', '6_con_totaldot_image_56.png', '6_con_totaldot_image_57.png', '6_con_totaldot_image_58.png', '6_con_totaldot_image_59.png', '6_con_totaldot_image_6.png', '6_con_totaldot_image_60.png', '6_con_totaldot_image_61.png', '6_con_totaldot_image_62.png', '6_con_totaldot_image_63.png', '6_con_totaldot_image_64.png', '6_con_totaldot_image_65.png', '6_con_totaldot_image_66.png', '6_con_totaldot_image_67.png', '6_con_totaldot_image_68.png', '6_con_totaldot_image_69.png', '6_con_totaldot_image_7.png', '6_con_totaldot_image_70.png', '6_con_totaldot_image_8.png', '6_con_totaldot_image_9.png']\n"
     ]
    }
   ],
   "source": [
    "EVENT = np.array(csv_df['image_name'])\n",
    "EVENT_ID = dict(zip(csv_df['image_name'], csv_df['image_number']))\n",
    "\n",
    "# delete remaining stimulus events / This part of the code removes specific types of events from the annotations in the EEG data\n",
    "indices_to_remove = [i for i, j in enumerate(raw.annotations.description) if  \"Segment\" in j or \"actiCAP\" in j or re.match(r'Stimulus/S (5[1-9]|6[0-7])', j)]\n",
    "raw.annotations.delete(indices_to_remove)\n",
    "raw.annotations.description = EVENT\n",
    "# interested duration of each trial (e.g., 800ms after the onset of image)\n",
    "raw.annotations.duration = np.array([POSTSTIM_WINDOW for _ in raw.annotations.description])\n",
    "\n",
    "# get events (number of events, 3), each row represents [event time, previous_event, event_id]\n",
    "events, event_id = mne.events_from_annotations(raw, event_id=EVENT_ID)\n",
    "\n",
    "# resample\n",
    "raw, events = raw.resample(SFREQ, events = events) # raw.resample(SFREQ, events=events): Resamples the raw EEG data to a new sampling frequency (SFREQ) while adjusting the timing of the events accordingly.\n",
    "raw.events = events #  This assigns the resampled events back to the raw object, so the events remain associated with the data after resampling.\n",
    "# ~~~~~~~~~~~~~~ Load data and the data ajustments ~~~~~~~~~~~~~~"
   ]
  },
  {
   "cell_type": "code",
   "execution_count": 12,
   "metadata": {},
   "outputs": [
    {
     "name": "stdout",
     "output_type": "stream",
     "text": [
      "Creating RawArray with float64 data, n_channels=1, n_times=340830\n",
      "    Range : 0 ... 340829 =      0.000 ...   681.658 secs\n",
      "Ready.\n",
      "Creating RawArray with float64 data, n_channels=1, n_times=340830\n",
      "    Range : 0 ... 340829 =      0.000 ...   681.658 secs\n",
      "Ready.\n",
      "Writing /u/kazma/MINT/data/interim/visual/sub-01_ses-01/RDM_raw.fif\n",
      "Closing /u/kazma/MINT/data/interim/visual/sub-01_ses-01/RDM_raw.fif\n",
      "[done]\n"
     ]
    }
   ],
   "source": [
    "\n",
    "# creates new artificial channels representing eye movements, using specific EEG channel pairs.\n",
    "raw = calculate_artificial_channels(raw.copy(), pairs=[['Fp1', 'Fp2'],['F9', 'F10']], labels=['eyeV', 'eyeH']) # ['Fp1', 'Fp2']: These are the frontal electrodes typically used to capture vertical eye movements (denoted as eyeV in this case). ['F9', 'F10']: These electrodes are often placed near the eyes and can be used to capture horizontal eye movements (denoted as eyeH).\n",
    "# raw.drop_channels(['Fp1']) # former eye channel (dummy name)\n",
    "\n",
    "# save\n",
    "raw.save(f\"{interim_target_dir_path}/RDM_raw.fif\", overwrite=True) # .fif file, which is a standard file format used in MNE for storing EEG/MEG data.\n"
   ]
  },
  {
   "cell_type": "code",
   "execution_count": null,
   "metadata": {},
   "outputs": [],
   "source": [
    "# ~~~~~~~~~~~~~~ band-pass filter\n",
    "raw.filter(l_freq=PREPROC_PARAMS[\"hpf\"], # high-pass\n",
    "           h_freq=PREPROC_PARAMS[\"lpf\"], # low-pass\n",
    "           method='fir', #  Finite Impulse Response (FIR) filter \n",
    "           fir_design='firwin', # a popular window method for designing FIR filters\n",
    "           skip_by_annotation='EDGE boundary', # This skips data points marked by annotations such as \"EDGE\" or \"boundary\"\n",
    "           n_jobs=-1) # This allows the filtering to be done in parallel, using all available CPU cores\n",
    "# ~~~~~~~~~~~~~~ band-pass filter  ~~~~~~~~~~~~~~\n",
    "\n",
    "\n",
    "# ~~~~~~~~~~~~~~ eye movement correction\n",
    "if PREPROC_PARAMS[\"emc\"] == \"True\":\n",
    "    filt_raw = raw.copy().filter(l_freq=1.0, h_freq=None, n_jobs=-1)\n",
    "    \n",
    "    # ICA model to the filtered EEG data\n",
    "    ica = ICA(n_components=20, # set the number of ICA to estimate\n",
    "              max_iter=\"auto\", # Automatically determines the maximum number of iterations for ICA convergence.\n",
    "              method='picard', # This specifies the ICA algorithm to use. Picard is an efficient ICA algorithm suitable for EEG data.\n",
    "              random_state=97) # Sets a random seed for reproducibility.\n",
    "    ica.fit(filt_raw) # bads seem to be ignored by default\n",
    "\n",
    "    # automatic detection of EOG/EMG components\n",
    "    ica.exclude = []\n",
    "    # find which ICs match the EOG pattern\n",
    "    indices, scores = ica.find_bads_eog(raw)\n",
    "    print(f'Found {len(indices)} independent components correlating with EOG signal.')\n",
    "    ica.exclude.extend(indices) # Adds the EOG-correlated ICs to the exclude list. These components will later be removed from the data.\n",
    "\n",
    "    # barplot of ICA component \"EOG/EMG match\" scores\n",
    "    f = ica.plot_scores(scores,\n",
    "                    title=f'IC correlation with EOG',\n",
    "                    show=True)\n",
    "    f.savefig(f\"{interim_target_dir_path}/ica_scores_RDM.png\", dpi=100)\n",
    "\n",
    "    # plot diagnostics\n",
    "    if indices: # only if some components were found to correlate with EOG/EMG\n",
    "        g = ica.plot_properties(raw, \n",
    "                                picks=indices, \n",
    "                                show=False)\n",
    "        for gi, p in zip(g, indices):\n",
    "            gi.savefig(f\"{interim_target_dir_path}/ica_diagnostics_ic{p}_RDM.png\", dpi=100)\n",
    "    plt.close('all')\n",
    "\n",
    "    # This applies the ICA solution to the raw EEG data,\n",
    "    ica.apply(raw)\n",
    "# ~~~~~~~~~~~~~~ eye movement correction ~~~~~~~~~~~~~~\n",
    "\n",
    "# ~~~~~~~~~~~~~~ remove eye-movement related channels\n",
    "channels_to_remove = ['Fp1', 'Fp2']  \n",
    "raw.drop_channels(channels_to_remove) # former eye channel (dummy name)\n",
    "# ~~~~~~~~~~~~~~ remove eye-movement related channels ~~~~~~~~~~~~~~\n"
   ]
  },
  {
   "cell_type": "code",
   "execution_count": null,
   "metadata": {},
   "outputs": [
    {
     "name": "stdout",
     "output_type": "stream",
     "text": [
      "EEG channel type selected for re-referencing\n",
      "Applying average reference.\n",
      "Applying a custom ('EEG',) reference.\n",
      "Not setting metadata\n",
      "1260 matching events found\n",
      "Applying baseline correction (mode: mean)\n",
      "Using data from preloaded Raw for 1260 events and 551 original time points ...\n",
      "0 bad epochs dropped\n"
     ]
    },
    {
     "data": {
      "image/png": "[encoded data removed]",
      "text/plain": [
       "<Figure size 1200x600 with 1 Axes>"
      ]
     },
     "metadata": {},
     "output_type": "display_data"
    },
    {
     "name": "stdout",
     "output_type": "stream",
     "text": [
      "epochs are saved\n"
     ]
    },
    {
     "name": "stderr",
     "output_type": "stream",
     "text": [
      "/tmp/ipykernel_18891/2053778456.py:53: RuntimeWarning: This filename (/u/kazma/MINT/data/interim/visual/sub-01_ses-01/epochs-epo_RDM.fif) does not conform to MNE naming conventions. All epochs files should end with -epo.fif, -epo.fif.gz, _epo.fif or _epo.fif.gz\n",
      "  epochs.save(f\"{interim_target_dir_path}/epochs-epo_RDM.fif\", overwrite=True)\n"
     ]
    }
   ],
   "source": [
    "# ~~~~~~~~~~~~~~ reference \n",
    "raw.set_eeg_reference(PREPROC_PARAMS[\"ref\"], projection=False) #  average of all electrodes is used as the reference. This indicates that the reference should be applied directly\n",
    "# ~~~~~~~~~~~~~~ reference ~~~~~~~~~~~~~~\n",
    "\n",
    "\n",
    "# ~~~~~~~~~~~~~~ epoching\n",
    "epochs = mne.Epochs(raw, # The continuous EEG data\n",
    "                    events, # This is an array of events detected in the EEG data\n",
    "                    event_id=EVENT_ID, #event_id,\n",
    "                    tmin=PREPROC_PARAMS[\"base\"][0], # the start time = -100ms\n",
    "                    tmax=PREPROC_PARAMS[\"tmax\"], # The end time of each epoch = 1s\n",
    "                    baseline=tuple(PREPROC_PARAMS[\"base\"]), # (-100 - 0), Baseline correction subtracts the mean signal in this window from the rest of the epoch to remove slow drifts or offset in the data.\n",
    "                    detrend=PREPROC_PARAMS[\"det\"], # it removes any linear trends (slow drifts) in the data.\n",
    "                    proj=False,\n",
    "                    reject_by_annotation=False, \n",
    "                    preload=True)\n",
    "# ~~~~~~~~~~~~~~ epoching ~~~~~~~~~~~~~~\n",
    "\n",
    "\n",
    "# ~~~~~~~~~~~~~~  autoreject\n",
    "if PREPROC_PARAMS[\"ar\"] != \"False\":\n",
    "    \n",
    "    if PREPROC_PARAMS[\"ar\"] == \"interpolate\":        \n",
    "        n_interpolate=[len(epochs.info['ch_names'])] # This means the maximum number of channels (equal to the number of channels in the data) will be interpolated, which effectively interpolates all bad channels.\n",
    "        consensus=[len(epochs.info['ch_names'])]  # Similarly, the consensus parameter is set to match the number of channels\n",
    "    elif PREPROC_PARAMS[\"ar\"] == \"interpolate_reject\":    \n",
    "        n_interpolate = [4, 8, 12, 16]\n",
    "        consensus = np.linspace(0, 1.0, 11)\n",
    "    else:\n",
    "        print(\"ERROR: No valid AR method provided in config.json, exiting!\")\n",
    "        sys.exit(1)\n",
    "    \n",
    "    # automated estimation of rejection threshold based on channel and trial per participant\n",
    "    ar = AutoReject(n_interpolate=n_interpolate, # The number of channels to interpolate if they are detected as noisy.\n",
    "                    consensus=consensus, # The proportion of channels that must agree to mark a trial as noisy.\n",
    "                    random_state=11, # Ensures the results are reproducible by setting the random seed\n",
    "                    n_jobs=-1, \n",
    "                    verbose=False) # Suppresses the printing of verbose output.\n",
    "    ar.fit(epochs)  # The autoreject algorithm is fitted to the epochs, analyzing the data to determine which trials or channels are noisy.\n",
    "    epochs, reject_log = ar.transform(epochs.copy(), return_log=True) # epochs = The cleaned EEG epochs after autoreject has been applied. reject_log = A log of which trials were rejected or which channels were interpolated.\n",
    "\n",
    "    # plot the rejection log and save plot\n",
    "    rej_plot = reject_log.plot('horizontal', show=True)\n",
    "    rej_plot.savefig(f\"{interim_target_dir_path}/autoreject_RDM.png\", dpi=100)\n",
    "    reject_log.save(f\"{interim_target_dir_path}/autoreject_RDM.npz\", overwrite=True) # must end with .npz, compressed numpy file format\n",
    "# ~~~~~~~~~~~~~~  autoreject  ~~~~~~~~~~~~~~ \n",
    "\n",
    "\n",
    "# ~~~~~~~~~~~~~~ delete surplus trials: SKIP\n",
    "\n",
    "\n",
    "# ~~~~~~~~~~~~~~ save epochs\n",
    "epochs.save(f\"{interim_target_dir_path}/RDM-epochs-epo.fif\", overwrite=True)\n",
    "print(\"epochs are saved\")\n",
    "# ~~~~~~~~~~~~~~save epochs ~~~~~~~~~~~~~~\n"
   ]
  },
  {
   "cell_type": "code",
   "execution_count": null,
   "metadata": {},
   "outputs": [],
   "source": []
  }
 ],
 "metadata": {
  "kernelspec": {
   "display_name": "MINT",
   "language": "python",
   "name": "python3"
  },
  "language_info": {
   "codemirror_mode": {
    "name": "ipython",
    "version": 3
   },
   "file_extension": ".py",
   "mimetype": "text/x-python",
   "name": "python",
   "nbconvert_exporter": "python",
   "pygments_lexer": "ipython3",
   "version": "3.9.20"
  }
 },
 "nbformat": 4,
 "nbformat_minor": 2
}
