{
 "cells": [
  {
   "cell_type": "markdown",
   "metadata": {},
   "source": [
    "### Library"
   ]
  },
  {
   "cell_type": "code",
   "execution_count": 1,
   "metadata": {},
   "outputs": [],
   "source": [
    "import os\n",
    "import re\n",
    "import pickle\n",
    "import pandas as pd\n",
    "import matplotlib.pyplot as plt\n",
    "import seaborn as sns\n",
    "import numpy as np\n",
    "from statsmodels.stats.anova import AnovaRM\n",
    "import statsmodels.formula.api as smf\n",
    "import scipy.stats as stats\n",
    "from statsmodels.stats.multitest import multipletests\n",
    "from scipy.stats import pearsonr\n",
    "from sklearn.linear_model import LinearRegression\n",
    "import statsmodels.api as sm"
   ]
  },
  {
   "cell_type": "markdown",
   "metadata": {},
   "source": [
    "### Load data"
   ]
  },
  {
   "cell_type": "markdown",
   "metadata": {},
   "source": [
    "### Mixed conditions"
   ]
  },
  {
   "cell_type": "code",
   "execution_count": 24,
   "metadata": {},
   "outputs": [],
   "source": [
    "\n",
    "# ~~~~~~~~~~~~~~ Parameters\n",
    "group = 'adult' # 'adult' or 'baby'\n",
    "modality = 'visual' # 'visual' or 'audio'\n",
    "subject_lists = ['sub-03', 'sub-04', 'sub-05', 'sub-06', 'sub-07', 'sub-08']\n",
    "# ~~~~~~~~~~~~~~ Parameters ~~~~~~~~~~~~~~\n",
    "\n",
    "# final dataframe\n",
    "df = []\n",
    "\n",
    "# subject loop\n",
    "for subject in subject_lists:\n",
    "\n",
    "    # ~~~~~~~~~~~~~~ Set the working directory\n",
    "    path = f\"/ptmp/kazma/DATA-MINT/data/{group}/processed/{modality}\"\n",
    "    sub_folders = [f for f in os.listdir(path) if os.path.isdir(os.path.join(path, f))]\n",
    "    sub_folders_sorted = sorted(sub_folders, key=lambda x: int(re.search(r'\\d+', x).group())) # Sort the folders based on the numeric part after \"sub-\"\n",
    "    # ~~~~~~~~~~~~~~ Set the working directory ~~~~~~~~~~~~~~\n",
    "\n",
    "    # Get file name\n",
    "    filename_acc = f\"EEGNet_accuracy_all.pkl\"\n",
    "    sub_filename_accuracy = os.path.join(path, subject, filename_acc)\n",
    "\n",
    "    # Open the file and load data\n",
    "    with open(sub_filename_accuracy, 'rb') as file:\n",
    "        data = pickle.load(file)\n",
    "    data_acc = pd.DataFrame([data])\n",
    "    df.append(data_acc)\n",
    "\n",
    "\n",
    "# Concatenate all DataFrames vertically\n",
    "combined_df = pd.concat(df, ignore_index=True)\n",
    "\n",
    "# Define column names as shown in the image\n",
    "column_names = [\n",
    "    \"1 vs. 2\",\n",
    "    \"1 vs. 3\",\n",
    "    \"1 vs. 4\",\n",
    "    \"1 vs. 5\",\n",
    "    \"1 vs. 6\",\n",
    "    \"2 vs. 3\",\n",
    "    \"2 vs. 4\",\n",
    "    \"2 vs. 5\",\n",
    "    \"2 vs. 6\",\n",
    "    \"3 vs. 4\",\n",
    "    \"3 vs. 5\",\n",
    "    \"3 vs. 6\",\n",
    "    \"4 vs. 5\",\n",
    "    \"4 vs. 6\",\n",
    "    \"5 vs. 6\"\n",
    "]\n",
    "\n",
    "# Convert column name\n",
    "combined_df.columns=column_names\n",
    "\n",
    "df = combined_df.copy()"
   ]
  },
  {
   "cell_type": "markdown",
   "metadata": {},
   "source": [
    "### Single condition-wise"
   ]
  },
  {
   "cell_type": "code",
   "execution_count": 2,
   "metadata": {},
   "outputs": [],
   "source": [
    "\n",
    "# ~~~~~~~~~~~~~~ Parameters\n",
    "group = 'adult' # 'adult' or 'baby'\n",
    "modality = 'visual' # 'visual' or 'audio'\n",
    "subject_lists = ['sub-03', 'sub-04', 'sub-05', 'sub-06', 'sub-07', 'sub-08']\n",
    "target_lists = ['singledot', 'totaldot', 'circum']\n",
    "# ~~~~~~~~~~~~~~ Parameters ~~~~~~~~~~~~~~\n",
    "\n",
    "# final dataframe\n",
    "df = {}\n",
    "\n",
    "# Condition loop\n",
    "for target_cond in target_lists:\n",
    "\n",
    "    x = [] # temporaly dataframe\n",
    "\n",
    "    # subject loop\n",
    "    for subject in subject_lists:\n",
    "\n",
    "        # ~~~~~~~~~~~~~~ Set the working directory\n",
    "        path = f\"/ptmp/kazma/DATA-MINT/data/{group}/processed/{modality}\"\n",
    "        sub_folders = [f for f in os.listdir(path) if os.path.isdir(os.path.join(path, f))]\n",
    "        sub_folders_sorted = sorted(sub_folders, key=lambda x: int(re.search(r'\\d+', x).group())) # Sort the folders based on the numeric part after \"sub-\"\n",
    "        # ~~~~~~~~~~~~~~ Set the working directory ~~~~~~~~~~~~~~\n",
    "\n",
    "        # Get file name\n",
    "        filename_acc = f\"EEGNet_accuracy_{target_cond}.pkl\"\n",
    "        sub_filename_accuracy = os.path.join(path, subject, filename_acc)\n",
    "\n",
    "        # Open the file and load data\n",
    "        with open(sub_filename_accuracy, 'rb') as file:\n",
    "            data = pickle.load(file)\n",
    "        data_acc = pd.DataFrame([data])\n",
    "        x.append(data_acc)\n",
    "\n",
    "    # Concatenate all DataFrames vertically\n",
    "    combined_df = pd.concat(x, ignore_index=True)\n",
    "\n",
    "    # Define column names as shown in the image\n",
    "    column_names = [\n",
    "        \"1 vs. 2\",\n",
    "        \"1 vs. 3\",\n",
    "        \"1 vs. 4\",\n",
    "        \"1 vs. 5\",\n",
    "        \"1 vs. 6\",\n",
    "        \"2 vs. 3\",\n",
    "        \"2 vs. 4\",\n",
    "        \"2 vs. 5\",\n",
    "        \"2 vs. 6\",\n",
    "        \"3 vs. 4\",\n",
    "        \"3 vs. 5\",\n",
    "        \"3 vs. 6\",\n",
    "        \"4 vs. 5\",\n",
    "        \"4 vs. 6\",\n",
    "        \"5 vs. 6\"\n",
    "    ]\n",
    "\n",
    "    # Convert column name\n",
    "    combined_df.columns=column_names\n",
    "\n",
    "    # final dataframe\n",
    "    df[target_cond] = combined_df"
   ]
  },
  {
   "cell_type": "markdown",
   "metadata": {},
   "source": [
    "### Pick the target condition's data"
   ]
  },
  {
   "cell_type": "code",
   "execution_count": 25,
   "metadata": {},
   "outputs": [
    {
     "name": "stdout",
     "output_type": "stream",
     "text": [
      "===========================================\n",
      "==============  all  =================\n",
      "===========================================\n"
     ]
    }
   ],
   "source": [
    "condition = 'all' # ['singledot', 'totaldot', 'circum'], 'all'\n",
    "if condition == 'all':\n",
    "    x = df.copy()\n",
    "else:\n",
    "    x = df[condition]\n",
    "x = x.iloc[:,:5] # only first five conditions = 1 vs. 2, 3, 4, 5, 6\n",
    "\n",
    "print(\"===========================================\")\n",
    "print(f\"==============  {condition}  =================\")\n",
    "print(\"===========================================\")"
   ]
  },
  {
   "cell_type": "markdown",
   "metadata": {},
   "source": [
    "### Normality Check: Shapiro-Wilk test"
   ]
  },
  {
   "cell_type": "code",
   "execution_count": 26,
   "metadata": {},
   "outputs": [
    {
     "name": "stdout",
     "output_type": "stream",
     "text": [
      "1 vs. 2: W=0.878, p=0.2613\n",
      "  Data looks normally distributed ✅\n",
      "------------------------------------------\n",
      "1 vs. 3: W=0.941, p=0.6681\n",
      "  Data looks normally distributed ✅\n",
      "------------------------------------------\n",
      "1 vs. 4: W=0.931, p=0.5891\n",
      "  Data looks normally distributed ✅\n",
      "------------------------------------------\n",
      "1 vs. 5: W=0.816, p=0.0807\n",
      "  Data looks normally distributed ✅\n",
      "------------------------------------------\n",
      "1 vs. 6: W=0.889, p=0.3130\n",
      "  Data looks normally distributed ✅\n",
      "------------------------------------------\n"
     ]
    }
   ],
   "source": [
    "# Perform normality test for each condition\n",
    "column_names = x.columns.tolist()\n",
    "for i, cond in enumerate(column_names):  # Loop over each condition\n",
    "    stat, p = stats.shapiro(x[cond])  # Shapiro-Wilk test\n",
    "    print(f\"{cond}: W={stat:.3f}, p={p:.4f}\")\n",
    "\n",
    "    # Interpretation\n",
    "    if p > 0.05:\n",
    "        print(\"  Data looks normally distributed ✅\")\n",
    "    else:\n",
    "        print(\"  Data is NOT normally distributed ❌ (consider non-parametric test)\")\n",
    "\n",
    "    print(\"------------------------------------------\")"
   ]
  },
  {
   "cell_type": "markdown",
   "metadata": {},
   "source": [
    "### One sample t-test against zero: FDR correction"
   ]
  },
  {
   "cell_type": "code",
   "execution_count": 27,
   "metadata": {},
   "outputs": [
    {
     "name": "stdout",
     "output_type": "stream",
     "text": [
      "1 vs. 2: t=2.228, p=0.0764\n",
      "  non-significant decoding accuracy ❌\n",
      "------------------------------------------\n",
      "1 vs. 3: t=4.373, p=0.0120\n",
      "  significant decoding accuracy ✅\n",
      "------------------------------------------\n",
      "1 vs. 4: t=3.812, p=0.0156\n",
      "  significant decoding accuracy ✅\n",
      "------------------------------------------\n",
      "1 vs. 5: t=4.844, p=0.0117\n",
      "  significant decoding accuracy ✅\n",
      "------------------------------------------\n",
      "1 vs. 6: t=4.972, p=0.0117\n",
      "  significant decoding accuracy ✅\n",
      "------------------------------------------\n"
     ]
    }
   ],
   "source": [
    "\n",
    "# Perform one-sample t-test against 0.5\n",
    "t_stats, p_values = stats.ttest_1samp(x, popmean=0.5, axis=0)\n",
    "\n",
    "# Apply multiple comparisons correction (e.g., Bonferroni or FDR)\n",
    "corrected_p = multipletests(p_values, method='fdr_bh')[1]  # FDR correction\n",
    "\n",
    "for i, cond in enumerate(column_names):  # Loop over each condition\n",
    "    print(f\"{cond}: t={t_stats[i]:.3f}, p={corrected_p[i]:.4f}\")\n",
    "    # Interpretation\n",
    "    if corrected_p[i] < 0.05:\n",
    "        print(\"  significant decoding accuracy ✅\")\n",
    "    else:\n",
    "        print(\"  non-significant decoding accuracy ❌\")\n",
    "    \n",
    "    print(\"------------------------------------------\")\n",
    "    "
   ]
  },
  {
   "cell_type": "markdown",
   "metadata": {},
   "source": [
    "### Linear Mixed Effects Model (LMM)"
   ]
  },
  {
   "cell_type": "code",
   "execution_count": 28,
   "metadata": {},
   "outputs": [
    {
     "name": "stdout",
     "output_type": "stream",
     "text": [
      "            Mixed Linear Model Regression Results\n",
      "==============================================================\n",
      "Model:               MixedLM    Dependent Variable:    Score  \n",
      "No. Observations:    30         Method:                REML   \n",
      "No. Groups:          6          Scale:                 0.0004 \n",
      "Min. group size:     5          Log-Likelihood:        48.2030\n",
      "Max. group size:     5          Converged:             Yes    \n",
      "Mean group size:     5.0                                      \n",
      "--------------------------------------------------------------\n",
      "                     Coef. Std.Err.   z    P>|z| [0.025 0.975]\n",
      "--------------------------------------------------------------\n",
      "Intercept            0.538    0.023 22.966 0.000  0.492  0.584\n",
      "Condition[T.1 vs. 3] 0.048    0.012  4.009 0.000  0.024  0.071\n",
      "Condition[T.1 vs. 4] 0.064    0.012  5.408 0.000  0.041  0.088\n",
      "Condition[T.1 vs. 5] 0.080    0.012  6.685 0.000  0.056  0.103\n",
      "Condition[T.1 vs. 6] 0.098    0.012  8.206 0.000  0.074  0.121\n",
      "Group Var            0.003    0.101                           \n",
      "==============================================================\n",
      "\n"
     ]
    },
    {
     "name": "stderr",
     "output_type": "stream",
     "text": [
      "/viper/ptmp/kazma/miniforge3/envs/MINT/lib/python3.9/site-packages/statsmodels/regression/mixed_linear_model.py:2237: ConvergenceWarning: The MLE may be on the boundary of the parameter space.\n",
      "  warnings.warn(msg, ConvergenceWarning)\n"
     ]
    }
   ],
   "source": [
    "xx = x.copy()\n",
    "xx['Subject'] = subject_lists\n",
    "x_long = pd.melt(xx, id_vars='Subject', var_name=\"Condition\", value_name=\"Score\")\n",
    "\n",
    "# Fit the Linear Mixed Effects Model\n",
    "model = smf.mixedlm(\"Score ~ Condition\", x_long, groups=x_long[\"Subject\"]).fit()\n",
    "\n",
    "# Print the model summary\n",
    "print(model.summary())\n",
    "# print(model.random_effects)\n",
    "# print(model.fittedvalues[0:5])"
   ]
  },
  {
   "cell_type": "markdown",
   "metadata": {},
   "source": [
    "### Plots"
   ]
  },
  {
   "cell_type": "markdown",
   "metadata": {},
   "source": [
    "### Mean and SD"
   ]
  },
  {
   "cell_type": "code",
   "execution_count": 29,
   "metadata": {},
   "outputs": [
    {
     "name": "stderr",
     "output_type": "stream",
     "text": [
      "/tmp/ipykernel_321627/1048104599.py:5: FutureWarning: \n",
      "\n",
      "The `errwidth` parameter is deprecated. And will be removed in v0.15.0. Pass `err_kws={'linewidth': 1}` instead.\n",
      "\n",
      "  sns.pointplot(data=df_melted, x=\"Condition\", y=\"Score\", capsize=0, markers=\"o\", linestyles=\"-\", alpha=0.8,\n"
     ]
    },
    {
     "data": {
      "image/png": "[encoded data removed]",
      "text/plain": [
       "<Figure size 800x500 with 1 Axes>"
      ]
     },
     "metadata": {},
     "output_type": "display_data"
    }
   ],
   "source": [
    "# Convert DataFrame to long format for Seaborn\n",
    "df_melted = x.melt(var_name=\"Condition\", value_name=\"Score\")\n",
    "\n",
    "plt.figure(figsize=(8,5))\n",
    "sns.pointplot(data=df_melted, x=\"Condition\", y=\"Score\", capsize=0, markers=\"o\", linestyles=\"-\", alpha=0.8, \n",
    "              linewidth=3, errorbar=(\"sd\", 1), errwidth=1, color=\"indigo\",\n",
    "              markeredgewidth=1, markeredgecolor='black')\n",
    "\n",
    "sns.set_style(\"darkgrid\", {\"axes.facecolor\": \".9\"})\n",
    "# Customize plot\n",
    "plt.ylim(0.40,0.8)\n",
    "plt.axhline(y=0.5, color='black', linestyle='--', linewidth=1)\n",
    "plt.ylabel(\"Decoding Accuracy\")\n",
    "plt.xlabel(\"\")\n",
    "plt.xticks(rotation=45)  # Rotate column labels if needed\n",
    "\n",
    "# save the plot\n",
    "figname = f\"EEGNet_decoding_{condition}.png\"\n",
    "#\n",
    "plt.savefig(f\"{path}/{figname}\", dpi=300, bbox_inches='tight')\n",
    "# Show the plot\n",
    "plt.show()"
   ]
  },
  {
   "cell_type": "markdown",
   "metadata": {},
   "source": [
    "### Model validation: correlation"
   ]
  },
  {
   "cell_type": "code",
   "execution_count": 30,
   "metadata": {},
   "outputs": [
    {
     "data": {
      "image/png": "[encoded data removed]",
      "text/plain": [
       "<Figure size 640x480 with 1 Axes>"
      ]
     },
     "metadata": {},
     "output_type": "display_data"
    },
    {
     "name": "stdout",
     "output_type": "stream",
     "text": [
      "------------------------------------------\n",
      "all: r=0.962, p=0.0000\n",
      "  significant correlation coefficients ✅\n"
     ]
    }
   ],
   "source": [
    "y = model.fittedvalues  # Predicted values (dependent variable)\n",
    "\n",
    "plt.scatter(x_long[\"Score\"], y, alpha=0.7, color='indigo',s=100,edgecolor=\"black\", linewidth=1)          \n",
    "\n",
    "\n",
    "sns.set_style(\"darkgrid\", {\"axes.facecolor\": \".9\"})\n",
    "plt.xlabel(\"Actual Accuracy\")\n",
    "plt.ylabel(\"Predicted Accuracy\")\n",
    "plt.xlim(0.4, 0.8)\n",
    "plt.ylim(0.4, 0.8)\n",
    "\n",
    "# save the plot\n",
    "figname = f\"EEGNet_corr_{condition}.png\"\n",
    "#\n",
    "plt.savefig(f\"{path}/{figname}\", dpi=300, bbox_inches='tight')\n",
    "\n",
    "plt.show()\n",
    "\n",
    "# Pearson correlation\n",
    "correlation, p_value = pearsonr(x_long[\"Score\"], y)\n",
    "\n",
    "print(\"------------------------------------------\")\n",
    "print(f\"{condition}: r={correlation:.3f}, p={p_value:.4f}\")\n",
    "\n",
    "# Interpretation\n",
    "if p_value < 0.05:\n",
    "    print(\"  significant correlation coefficients ✅\")\n",
    "else:\n",
    "    print(\"  non-significant correlation coefficients ❌\")\n"
   ]
  },
  {
   "cell_type": "code",
   "execution_count": null,
   "metadata": {},
   "outputs": [],
   "source": []
  }
 ],
 "metadata": {
  "kernelspec": {
   "display_name": "MINT",
   "language": "python",
   "name": "python3"
  },
  "language_info": {
   "codemirror_mode": {
    "name": "ipython",
    "version": 3
   },
   "file_extension": ".py",
   "mimetype": "text/x-python",
   "name": "python",
   "nbconvert_exporter": "python",
   "pygments_lexer": "ipython3",
   "version": "undefined.undefined.undefined"
  }
 },
 "nbformat": 4,
 "nbformat_minor": 2
}
