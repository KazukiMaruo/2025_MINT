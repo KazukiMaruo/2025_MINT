{
 "cells": [
  {
   "cell_type": "markdown",
   "metadata": {},
   "source": [
    "### Packages"
   ]
  },
  {
   "cell_type": "code",
   "execution_count": 12,
   "metadata": {},
   "outputs": [],
   "source": [
    "import numpy as np\n",
    "import os\n",
    "import pandas as pd\n",
    "import seaborn as sns\n",
    "import matplotlib.pyplot as plt\n",
    "import json\n"
   ]
  },
  {
   "cell_type": "markdown",
   "metadata": {},
   "source": [
    "### Single dot area"
   ]
  },
  {
   "cell_type": "code",
   "execution_count": 22,
   "metadata": {},
   "outputs": [
    {
     "name": "stdout",
     "output_type": "stream",
     "text": [
      "dict_values([19.349157955255333, 13.681920800410678, 11.171241554059256, 9.674578977627666, 8.653206499066352, 7.899260657148244])\n"
     ]
    }
   ],
   "source": [
    "cwd = os.getcwd() # get current working directory\n",
    "parent_dir = os.path.dirname(os.path.dirname(cwd)) # Get the parent directory\n",
    "param_path = os.path.join(parent_dir, 'experiment', 'stimuli', 'visual', 'param.json') # specify the paramter's path\n",
    "\n",
    "# import variables from config.json\n",
    "with open(param_path) as f: # The file object is referenced as f during the block.\n",
    "    param = json.load(f) \n",
    "    \n",
    "print(totaldotsize_cont_radius)"
   ]
  },
  {
   "cell_type": "code",
   "execution_count": null,
   "metadata": {},
   "outputs": [],
   "source": [
    "# Define the range of numerosities\n",
    "numerosities = np.arange(1, 7)  # From 1 to 10\n",
    "single_dot_area = [90, 22, 10, 5, 3, 2]\n",
    "\n",
    "# Initialize an empty RDM matrix\n",
    "n = len(numerosities)\n",
    "RDM = np.zeros((n, n))\n",
    "\n",
    "# Compute the Euclidean distance between each pair of numerosities\n",
    "for i in range(n):\n",
    "    for j in range(n):\n",
    "        RDM[i, j] = np.abs(single_dot_area[i] - single_dot_area[j])\n",
    "\n",
    "# Optional: Normalize the RDM\n",
    "RDM = RDM / np.max(RDM)\n",
    "\n",
    "# Visualize the RDM using a heatmap\n",
    "plt.figure(figsize=(8, 6))\n",
    "sns.heatmap(RDM, annot=True, cmap=\"plasma\", xticklabels=numerosities, yticklabels=numerosities)\n",
    "plt.savefig('/Users/muku/Desktop/RDM_singledotarea_circumcont.png', format='png', bbox_inches='tight', pad_inches=0.2)\n",
    "plt.show()"
   ]
  }
 ],
 "metadata": {
  "kernelspec": {
   "display_name": "MINT_miniforge",
   "language": "python",
   "name": "python3"
  },
  "language_info": {
   "codemirror_mode": {
    "name": "ipython",
    "version": 3
   },
   "file_extension": ".py",
   "mimetype": "text/x-python",
   "name": "python",
   "nbconvert_exporter": "python",
   "pygments_lexer": "ipython3",
   "version": "3.12.2"
  }
 },
 "nbformat": 4,
 "nbformat_minor": 2
}
