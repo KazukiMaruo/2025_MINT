{
 "cells": [
  {
   "cell_type": "markdown",
   "metadata": {},
   "source": [
    "### Packages"
   ]
  },
  {
   "cell_type": "code",
   "execution_count": null,
   "metadata": {},
   "outputs": [],
   "source": [
    "%reset -f"
   ]
  },
  {
   "cell_type": "code",
   "execution_count": 1,
   "metadata": {},
   "outputs": [],
   "source": [
    "import numpy as np\n",
    "import os\n",
    "import pandas as pd\n",
    "import seaborn as sns\n",
    "import matplotlib.pyplot as plt\n",
    "import json\n"
   ]
  },
  {
   "cell_type": "markdown",
   "metadata": {},
   "source": [
    "# area of single dot, area of total dots, circumference of total dots"
   ]
  },
  {
   "cell_type": "code",
   "execution_count": null,
   "metadata": {},
   "outputs": [],
   "source": [
    "# ~~~~~~~~~~~~~ Importing data from param.json\n",
    "cwd = os.getcwd() # get current working directory\n",
    "parent_dir = os.path.dirname(os.path.dirname(cwd)) # Get the parent directory\n",
    "param_path = os.path.join(parent_dir, 'experiment', 'stimuli', 'visual', 'param.json') # specify the paramter's path\n",
    "with open(param_path) as f: # open json file\n",
    "    param = json.load(f)\n",
    "globals().update(param) # create the param for variables\n",
    "# ~~~~~~~~~~~~~ Importing data from param.json ~~~~~~~~~~~~~\n",
    "\n",
    "\n",
    "\n",
    "# ~~~~~~~~~~~~~ Vector creation\n",
    "# Numeoristy vector 1260 * 1\n",
    "num_vector = [i for i in numerosity for _ in range(total_n_trials)] \n",
    "\n",
    "# radius vector for each numerosity (70 trials * 3 condition = 210 * 1)\n",
    "radius_vector = []\n",
    "for i in numerosity: # Loop over the keys '1' to '6' \n",
    "    num_key = str(i)  # Convert loop index to string to match your dictionary keys\n",
    "    x = np.concatenate((     # Concatenate the lists for the current key\n",
    "        [singledotsize_cont_radius_px[num_key] for _ in range(n_trials)], # singledot controlled \n",
    "        [totaldotsize_cont_radius_px[num_key] for _ in range(n_trials)], # totaldot controlled \n",
    "        [circumference_cont_radius_px[num_key] for _ in range(n_trials)] # circumference controlled \n",
    "    ), axis=0)\n",
    "    radius_vector.append(x)\n",
    "radius_vector = np.concatenate(radius_vector, axis=0)\n",
    "\n",
    "# generate 3 vectors using radius info (1. signle dot area, 2. total dot area, 3. total circumference)\n",
    "vectors = {\n",
    "    'area of a single dot': np.pi * np.square(radius_vector), # Compute the area for each radius\n",
    "    'area of total dots' : (np.pi * np.square(radius_vector)) * num_vector,  # Compute the totaldot area for each radius\n",
    "    'circumference of total dots' : 2 * np.pi * radius_vector  # Compute the totaldot area for each radius\n",
    "    }\n",
    "# ~~~~~~~~~~~~~ Vector creation ~~~~~~~~~~~~~\n",
    "\n",
    "\n",
    "\n",
    "# ~~~~~~~~~~~~~~~~ RDM computation\n",
    "# directory for saving RDM\n",
    "rsa_image_dict = os.path.join(cwd, 'RDM') # specify the directory for stroing images\n",
    "os.makedirs(rsa_image_dict, exist_ok=True)\n",
    "\n",
    "for vector_name, current_vector in vectors.items(): \n",
    "    n = len(num_vector)\n",
    "    RDM = np.zeros((n, n))\n",
    "\n",
    "    for i in range(n): # Compute the Euclidean distance between each pair of numerosities\n",
    "        for j in range(n):\n",
    "            RDM[i, j] = np.abs(current_vector[i] - current_vector[j])\n",
    "    RDM = RDM / np.max(RDM) # Normalize the RDM\n",
    "    np.fill_diagonal(RDM, np.nan)  # Remove diagonal elements\n",
    "    upper_tri_mask = np.triu(np.ones(RDM.shape), k=0).astype(bool) # Create an upper triangular mask (including the diagonal)\n",
    "    RDM[upper_tri_mask] = np.nan   # Apply the mask and set the upper triangle to NaN\n",
    "    # ~~~~~~~~~~~~~~~~ RDM computation ~~~~~~~~~~~~~~~~\n",
    "\n",
    "\n",
    "\n",
    "    # ~~~~~~~~~~~~~~~~ Save RDM as a NumPy binary file (.npy)\n",
    "    rdm_path = os.path.join(rsa_image_dict, f'rdm_{vector_name.replace(\" \", \"_\")}.npy')\n",
    "    np.save(rdm_path, RDM)  # Save as .npy\n",
    "    # ~~~~~~~~~~~~~~~~ Save RDM as a NumPy binary file (.npy) ~~~~~~~~~~~~~~~~\n",
    "\n",
    "\n",
    "\n",
    "    # ~~~~~~~~~~~~~~~~ RDM visualization\n",
    "    # paramters\n",
    "    mask = np.triu(np.ones_like(RDM, dtype=bool), k=1)  # Create a mask to show only the lower triangle (or upper triangle if desired), # k=1 means keep the lower triangle, excluding the diagonal\n",
    "    ticks_positions = np.arange((n/6) /2, n, 210).tolist() # Positions in the heatmap corresponding from 1 to 6\n",
    "    ticks_labels = list(range(1,7)) # Labels for the ranges\n",
    "    blackline_positions = np.arange(0, n, 210).tolist()\n",
    "\n",
    "\n",
    "    image_name = f'rdm_{vector_name.replace(\" \", \"_\")}.png'\n",
    "    image_path = os.path.join(rsa_image_dict, image_name)\n",
    "\n",
    "    # plot and save the figure\n",
    "    plt.figure(figsize=(8, 6))\n",
    "    sns.heatmap(RDM, annot=False, cmap=\"RdPu\", cbar=False, mask=mask)\n",
    "    plt.xticks(ticks=ticks_positions, labels=ticks_labels, rotation=0, fontsize=15)\n",
    "    plt.yticks(ticks=ticks_positions, labels=ticks_labels, fontsize=15)\n",
    "    # Draw horizontal black lines\n",
    "    for _ in blackline_positions:\n",
    "        plt.axhline(_, color='black', linewidth=0.7)  \n",
    "        plt.axvline(_, color='black', linewidth=0.7)  \n",
    "    plt.axhline(y=1257, color='black', linewidth=0.7)  \n",
    "    plt.axvline(x=1259, color='black', linewidth=0.7) \n",
    "\n",
    "    plt.title(vector_name, fontsize=20, pad=10)\n",
    "    plt.savefig(image_path, format='png', bbox_inches='tight', pad_inches=0.2)\n",
    "    plt.show()\n",
    "    # ~~~~~~~~~~~~~~~~ RDM visualization ~~~~~~~~~~~~~~~~\n",
    "\n",
    "\n",
    "# ~~~~~~~~~~~~~~~~ supplement download only color bar\n",
    "dummy_data = np.array([[0, 1]])  # Dummy data for cbar\n",
    "cbar_image_path = os.path.join(rsa_image_dict, 'colorbar_only.png') # Path to save the color bar\n",
    "plt.figure(figsize=(3, 7))  # Create a figure for the color bar\n",
    "sns.heatmap(dummy_data, cmap=\"RdPu\", cbar=True, cbar_kws={\"shrink\": 0.8}, annot=False)\n",
    "plt.gca().set_visible(False)  # Hide the axes\n",
    "# Save the color bar only\n",
    "plt.savefig(cbar_image_path, format='png', bbox_inches='tight', pad_inches=0.2)\n",
    "plt.show()\n"
   ]
  },
  {
   "cell_type": "code",
   "execution_count": null,
   "metadata": {},
   "outputs": [],
   "source": []
  }
 ],
 "metadata": {
  "kernelspec": {
   "display_name": "MINT_miniforge",
   "language": "python",
   "name": "python3"
  },
  "language_info": {
   "codemirror_mode": {
    "name": "ipython",
    "version": 3
   },
   "file_extension": ".py",
   "mimetype": "text/x-python",
   "name": "python",
   "nbconvert_exporter": "python",
   "pygments_lexer": "ipython3",
   "version": "3.12.2"
  }
 },
 "nbformat": 4,
 "nbformat_minor": 2
}
