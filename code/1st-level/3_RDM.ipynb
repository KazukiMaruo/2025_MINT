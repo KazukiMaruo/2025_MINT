{
 "cells": [
  {
   "cell_type": "code",
   "execution_count": null,
   "metadata": {},
   "outputs": [],
   "source": [
    "%reset -f"
   ]
  },
  {
   "cell_type": "code",
   "execution_count": 2,
   "metadata": {},
   "outputs": [],
   "source": [
    "# ~~~~~~~~~~~~~~ Libraries\n",
    "import sys, os\n",
    "import mne # Python package for processing and analyzing electrophysiological data\n",
    "import numpy as np\n",
    "from glob import glob # look for all the pathnames matching a specified pattern according to the rules\n",
    "import matplotlib.pyplot as plt\n",
    "from mne.preprocessing import ICA # ICA (Independent Component Analysis) algorithm, which is for artifact removal\n",
    "import json\n",
    "import re\n",
    "\n",
    "from sklearn.model_selection import StratifiedKFold\n",
    "from sklearn.svm import SVC\n",
    "from sklearn.metrics import accuracy_score\n",
    "from scipy.stats import permutation_test\n",
    "import matplotlib.pyplot as plt\n",
    "from itertools import combinations\n",
    "\n",
    "import pandas as pd\n",
    "import seaborn as sns\n",
    "import pickle"
   ]
  },
  {
   "cell_type": "markdown",
   "metadata": {},
   "source": [
    "# Average time series for one channel"
   ]
  },
  {
   "cell_type": "code",
   "execution_count": null,
   "metadata": {},
   "outputs": [],
   "source": [
    "\n",
    "# Set the working directory\n",
    "path = \"/u/kazma/MINT/data/interim/visual\"\n",
    "sub_folders = [f for f in os.listdir(path) if os.path.isdir(os.path.join(path, f))]\n",
    "sub_folders_sorted = sorted(sub_folders, key=lambda x: int(re.search(r'\\d+', x).group())) # Sort the folders based on the numeric part after \"sub-\"\n",
    "\n",
    "\n",
    "\n",
    "for sub_loop in sub_folders_sorted:\n",
    "\n",
    "    # subject folder \n",
    "    sub_filename = os.path.join(path, sub_loop, 'RDM_epochs-epo.fif')\n",
    "\n",
    "    # Load epochs\n",
    "    epochs = mne.read_epochs(sub_filename, preload=True)\n",
    "    print(f\"{sub_loop} is analyzed\")\n",
    "\n",
    "    eeg_channels = epochs.pick_types(eeg=True).ch_names\n",
    "    print(\"EEG Channels:\", eeg_channels)\n",
    "    print(\"Number of EEG Channels:\", len(eeg_channels))\n",
    "    \n",
    "    # Get the condition names\n",
    "    condition_names = list(epochs.event_id.keys())\n",
    "    evoked_list = []\n",
    "\n",
    "    # Compute the averaged epoch for each condition and each channel\n",
    "    for condition in condition_names:\n",
    "        evoked = epochs[condition].average()  # Average the epochs for the condition\n",
    "        evoked_list.append(evoked)\n",
    "\n",
    "    # Store 6 vectors, representing averaged vector for each condition\n",
    "    averaged_data = {}\n",
    "\n",
    "    # Specify the channel to plot (e.g., channel name 'Cz')\n",
    "    channel_name = 'Fz'  # Replace with the channel of your choice\n",
    "\n",
    "    # Figure\n",
    "    plt.figure(figsize=(8, 4))\n",
    "\n",
    "    # Define colors for the conditions\n",
    "    colors = plt.cm.tab10(np.linspace(0, 1, 6))\n",
    "\n",
    "    for i, evoked in enumerate(evoked_list):\n",
    "        # Extract data for the specified channel\n",
    "        channel_index = evoked.ch_names.index(channel_name)  # Get index of the channel\n",
    "        channel_data = evoked.data[channel_index]  # Get the data for the specific channel\n",
    "        times = evoked.times * 1000  # Convert time to milliseconds\n",
    "\n",
    "        # Store the data\n",
    "        averaged_data[condition_names[i]] = channel_data\n",
    "        \n",
    "        # Plot the channel data\n",
    "        plt.plot(times, channel_data, linewidth=3, alpha=0.5) \n",
    "        plt.plot(times, channel_data, label=condition_names[i], linewidth=2)  # Plot time series\n",
    "\n",
    "    # Customize the plot\n",
    "    plt.title('Average Time Series for Channel: ' + channel_name)\n",
    "    plt.xlabel('Time (ms)')\n",
    "    plt.ylabel('Amplitude (µV)')\n",
    "    plt.axhline(0, color='black', linestyle='--', linewidth=0.5)  # Add a horizontal line at y=0\n",
    "    plt.axvline(0, color='black', linestyle='-', linewidth=1)  # Add a vertical line at t=0\n",
    "    plt.xlim(-20, 900)  # Set x-axis limits\n",
    "    # plt.ylim(-2.0e-8, 2.0e-8)  # Set y-axis limits\n",
    "    # plt.legend(ncol=3, loc='lower left', framealpha=1)\n",
    "\n",
    "    # Set the box line color to gray\n",
    "    ax = plt.gca()\n",
    "    ax.spines['top'].set_color('gray')\n",
    "    ax.spines['right'].set_color('gray')\n",
    "    ax.spines['bottom'].set_color('gray')\n",
    "    ax.spines['left'].set_color('gray')\n",
    "\n",
    "    plt.tight_layout()\n",
    "    plt.show()\n",
    "\n"
   ]
  },
  {
   "cell_type": "markdown",
   "metadata": {},
   "source": [
    "# RDM"
   ]
  },
  {
   "cell_type": "code",
   "execution_count": null,
   "metadata": {},
   "outputs": [],
   "source": [
    "# Set the working directory\n",
    "path = \"/u/kazma/MINT/data/interim/visual\"\n",
    "sub_folders = [f for f in os.listdir(path) if os.path.isdir(os.path.join(path, f))]\n",
    "sub_folders_sorted = sorted(sub_folders, key=lambda x: int(re.search(r'\\d+', x).group())) # Sort the folders based on the numeric part after \"sub-\"\n",
    "\n"
   ]
  }
 ],
 "metadata": {
  "kernelspec": {
   "display_name": "MINT",
   "language": "python",
   "name": "python3"
  },
  "language_info": {
   "codemirror_mode": {
    "name": "ipython",
    "version": 3
   },
   "file_extension": ".py",
   "mimetype": "text/x-python",
   "name": "python",
   "nbconvert_exporter": "python",
   "pygments_lexer": "ipython3",
   "version": "3.9.20"
  }
 },
 "nbformat": 4,
 "nbformat_minor": 2
}
